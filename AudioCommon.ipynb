{
 "cells": [
  {
   "cell_type": "markdown",
   "metadata": {},
   "source": [
    "# Audio Common\n",
    "This module contains the \"common\" data to all other modules, like basic types."
   ]
  },
  {
   "cell_type": "markdown",
   "metadata": {},
   "source": [
    "## Prerequisites:\n",
    "Be sure you've run `install.sh` before running this notebook!"
   ]
  },
  {
   "cell_type": "markdown",
   "metadata": {},
   "source": [
    "## Settings"
   ]
  },
  {
   "cell_type": "code",
   "execution_count": 1,
   "metadata": {},
   "outputs": [],
   "source": [
    "%load_ext autoreload\n",
    "%autoreload 2\n",
    "%matplotlib inline"
   ]
  },
  {
   "cell_type": "code",
   "execution_count": 2,
   "metadata": {},
   "outputs": [],
   "source": [
    "from audio import *"
   ]
  },
  {
   "cell_type": "markdown",
   "metadata": {},
   "source": [
    "## Test stuffs\n",
    "Imports and classes for test purpose"
   ]
  },
  {
   "cell_type": "code",
   "execution_count": 15,
   "metadata": {},
   "outputs": [],
   "source": [
    "#Imports for test only purpose...\n",
    "def source(f):\n",
    "    print(inspect.getsource(f))"
   ]
  },
  {
   "cell_type": "markdown",
   "metadata": {},
   "source": [
    "## Constants and definitions"
   ]
  },
  {
   "cell_type": "code",
   "execution_count": 4,
   "metadata": {},
   "outputs": [],
   "source": [
    "#Export\n",
    "\n",
    "#Parameters\n",
    "MIN_SAMPLE_SIZE = 201\n",
    "\n",
    "# These are valid file extensions for audio files\n",
    "AUDIO_EXTENSIONS = set(k for k,v in mimetypes.types_map.items() if v.startswith('audio/'));"
   ]
  },
  {
   "cell_type": "markdown",
   "metadata": {},
   "source": [
    "## Common functions"
   ]
  },
  {
   "cell_type": "markdown",
   "metadata": {},
   "source": [
    "### Working directory and files management"
   ]
  },
  {
   "cell_type": "code",
   "execution_count": 12,
   "metadata": {},
   "outputs": [
    {
     "name": "stdout",
     "output_type": "stream",
     "text": [
      "def getFastAiWorkingDirectory(folder):\n",
      "    '''Returns the standard working directory for fast.ai for a secific dataset'''\n",
      "    path = Path(Path.home()/'.fastai/data/')/folder\n",
      "    if path.exists:\n",
      "        print(f'Working directory: {path}')\n",
      "    else:\n",
      "        print('Missing data folder')\n",
      "    return path\n",
      "\n"
     ]
    }
   ],
   "source": [
    "source(getFastAiWorkingDirectory)"
   ]
  },
  {
   "cell_type": "code",
   "execution_count": 6,
   "metadata": {},
   "outputs": [
    {
     "name": "stdout",
     "output_type": "stream",
     "text": [
      "Working directory: /home/jupyter/.fastai/data/timit\n"
     ]
    }
   ],
   "source": [
    "# Standard path notation for fast.ai\n",
    "# The files willbe saved on $HOME/.fastai/data/timit/\n",
    "path = getFastAiWorkingDirectory('timit')"
   ]
  },
  {
   "cell_type": "markdown",
   "metadata": {},
   "source": [
    "## Basic data Types"
   ]
  },
  {
   "cell_type": "markdown",
   "metadata": {},
   "source": [
    "### AudioData\n",
    "This is the base class of out audio data. It contains two basic information about the \"sound\":\n",
    "* sig: the actual signal\n",
    "* sr: the sample rate\n",
    "\n",
    "**IMPORTANT:** the audio signal is one-dimensional."
   ]
  },
  {
   "cell_type": "code",
   "execution_count": 16,
   "metadata": {},
   "outputs": [
    {
     "name": "stdout",
     "output_type": "stream",
     "text": [
      "class AudioData:\n",
      "    '''Struct that holds basic information from audio signal'''\n",
      "\n",
      "    def __init__(self, sig, sr=16000):\n",
      "        self.sig = sig.flatten()  # We want single dimension data\n",
      "        self.sr = sr\n",
      "\n",
      "    @classmethod\n",
      "    def load(cls, fileName, **kwargs):\n",
      "        p = Path(fileName)\n",
      "        if p.exists():  # TODO: check type before load because on exception the kernel break\n",
      "            signal, samplerate = torchaudio.load(str(fileName))\n",
      "            return AudioData(signal, samplerate)\n",
      "        raise f'File not fund: {fileName}'\n",
      "\n"
     ]
    }
   ],
   "source": [
    "source(AudioData)"
   ]
  },
  {
   "cell_type": "code",
   "execution_count": 8,
   "metadata": {},
   "outputs": [],
   "source": [
    "def test_AudioData_create_from_data():\n",
    "    signal,samplerate = torchaudio.load(str(path/'TRAIN/DR1/MDPK0/SA1.WAV'))\n",
    "    a = AudioData(signal,samplerate)\n",
    "    assert 1 == len(a.sig.shape), 'Single dimension data'\n",
    "    assert a.sig.shape[0] > 100, 'Has data'\n",
    "    assert 16000 == a.sr, 'Correct sample rate'\n",
    "\n",
    "test_AudioData_create_from_data()"
   ]
  },
  {
   "cell_type": "code",
   "execution_count": 9,
   "metadata": {},
   "outputs": [],
   "source": [
    "def test_AudioData_create_from_audio_file():\n",
    "    a = AudioData.load(str(path/'TRAIN/DR1/MDPK0/SA1.WAV'))\n",
    "    assert 1 == len(a.sig.shape), 'Single dimension data'\n",
    "    assert a.sig.shape[0] > 100, 'Has data'\n",
    "    assert 16000 == a.sr, 'Correct sample rate'\n",
    "    \n",
    "test_AudioData_create_from_audio_file()"
   ]
  }
 ],
 "metadata": {
  "kernelspec": {
   "display_name": "Python [conda env:fastai-audio]",
   "language": "python",
   "name": "conda-env-fastai-audio-py"
  },
  "language_info": {
   "codemirror_mode": {
    "name": "ipython",
    "version": 3
   },
   "file_extension": ".py",
   "mimetype": "text/x-python",
   "name": "python",
   "nbconvert_exporter": "python",
   "pygments_lexer": "ipython3",
   "version": "3.7.2"
  },
  "varInspector": {
   "cols": {
    "lenName": 16,
    "lenType": 16,
    "lenVar": 40
   },
   "kernels_config": {
    "python": {
     "delete_cmd_postfix": "",
     "delete_cmd_prefix": "del ",
     "library": "var_list.py",
     "varRefreshCmd": "print(var_dic_list())"
    },
    "r": {
     "delete_cmd_postfix": ") ",
     "delete_cmd_prefix": "rm(",
     "library": "var_list.r",
     "varRefreshCmd": "cat(var_dic_list()) "
    }
   },
   "types_to_exclude": [
    "module",
    "function",
    "builtin_function_or_method",
    "instance",
    "_Feature"
   ],
   "window_display": false
  }
 },
 "nbformat": 4,
 "nbformat_minor": 2
}
