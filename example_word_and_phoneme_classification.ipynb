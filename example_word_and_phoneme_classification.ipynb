{
 "cells": [
  {
   "cell_type": "markdown",
   "metadata": {},
   "source": [
    "# Example: word and phoneme classification"
   ]
  },
  {
   "cell_type": "markdown",
   "metadata": {},
   "source": [
    "Classify phonemes using data augmentation and mel spectrograms.\n",
    "\n",
    "The previous attempt get around 62% accouracy on phoneme classification with:\n",
    "* No data augmentation\n",
    "* Curriculum learning like strategy (train on most frequent classes first and less frequent after)\n",
    "* Validation set mate of random split of TRAIN+TEST folder \n",
    "\n",
    "Actually the last point was very important in terms of model generalization because i this notebook we're going t use the \"TEST\" (hold out) as validation set.  "
   ]
  },
  {
   "cell_type": "code",
   "execution_count": 1,
   "metadata": {},
   "outputs": [],
   "source": [
    "## Notebook settings\n",
    "%reload_ext autoreload\n",
    "%autoreload 2\n",
    "%matplotlib inline"
   ]
  },
  {
   "cell_type": "code",
   "execution_count": 2,
   "metadata": {},
   "outputs": [],
   "source": [
    "## fastai imports\n",
    "from fastai.basics import *\n",
    "from fastai.data_block import ItemList\n",
    "from fastai.vision import *"
   ]
  },
  {
   "cell_type": "markdown",
   "metadata": {},
   "source": [
    "Import FastAI Audio modules here:"
   ]
  },
  {
   "cell_type": "code",
   "execution_count": 79,
   "metadata": {},
   "outputs": [],
   "source": [
    "from audio import *"
   ]
  },
  {
   "cell_type": "markdown",
   "metadata": {},
   "source": [
    "### Other library imports"
   ]
  },
  {
   "cell_type": "markdown",
   "metadata": {},
   "source": [
    "If this cell fails, you probably haven't installed the correct system/Python dependencies. You might need to re-run the \"System setup\" cell again."
   ]
  },
  {
   "cell_type": "code",
   "execution_count": 4,
   "metadata": {},
   "outputs": [],
   "source": [
    "import torch\n",
    "from pdb import set_trace\n",
    "from IPython.display import Audio\n",
    "from pydub import AudioSegment, silence\n",
    "import torchaudio\n",
    "from torchaudio import transforms\n",
    "import pandas as pd"
   ]
  },
  {
   "cell_type": "code",
   "execution_count": 5,
   "metadata": {},
   "outputs": [],
   "source": [
    "#Options\n",
    "pd.set_option('display.max_colwidth', -1)"
   ]
  },
  {
   "cell_type": "markdown",
   "metadata": {},
   "source": [
    "## Preparing the data"
   ]
  },
  {
   "cell_type": "markdown",
   "metadata": {},
   "source": [
    "We're going to do **phoneme classification** using the TIMIT dataset.\n",
    "\n",
    "The copyright on TIMIT isn't clear, and the data is hard to download, so we assume that the user has access to this dataset.\n",
    "\n",
    "**IMPORTANT:** the dataset should be located in the standard fast.ai location:\n",
    "> $HOME/.fastai/data/timit"
   ]
  },
  {
   "cell_type": "code",
   "execution_count": 6,
   "metadata": {},
   "outputs": [
    {
     "name": "stdout",
     "output_type": "stream",
     "text": [
      "Working directory: /home/ste/.fastai/data/timit\n"
     ]
    }
   ],
   "source": [
    "path = getFastAiWorkingDirectory('timit')"
   ]
  },
  {
   "cell_type": "markdown",
   "metadata": {},
   "source": [
    "### What's inside:\n",
    "*All these informations are taken from README file inside the dataset*\n",
    "\n",
    "    The dialect regions are:\n",
    "         dr1:  New England\n",
    "         dr2:  Northern\n",
    "         dr3:  North Midland\n",
    "         dr4:  South Midland\n",
    "         dr5:  Southern\n",
    "         dr6:  New York City\n",
    "         dr7:  Western\n",
    "         dr8:  Army Brat (moved around)     \n",
    "     \n",
    "      Dialect\n",
    "      Region(dr)    #Male    #Female    Total\n",
    "      ----------  --------- ---------  ----------\n",
    "         1         31 (63%)  18 (27%)   49 (8%)  \n",
    "         2         71 (70%)  31 (30%)  102 (16%) \n",
    "         3         79 (67%)  23 (23%)  102 (16%) \n",
    "         4         69 (69%)  31 (31%)  100 (16%) \n",
    "         5         62 (63%)  36 (37%)   98 (16%) \n",
    "         6         30 (65%)  16 (35%)   46 (7%) \n",
    "         7         74 (74%)  26 (26%)  100 (16%) \n",
    "         8         22 (67%)  11 (33%)   33 (5%)\n",
    "       ------     --------- ---------  ---------- \n",
    "         8        438 (70%) 192 (30%)  630 (100%)\n",
    "         \n",
    "      \n",
    "      Sentence Type   #Sentences   #Speakers   Total   #Sentences/Speaker\n",
    "      -------------   ----------   ---------   -----   ------------------\n",
    "      Dialect (SA)          2         630       1260           2\n",
    "      Compact (SX)        450           7       3150           5\n",
    "      Diverse (SI)       1890           1       1890           3\n",
    "      -------------   ----------   ---------   -----    ----------------\n",
    "      Total              2342                   6300          10\n"
   ]
  },
  {
   "cell_type": "markdown",
   "metadata": {},
   "source": [
    "### File Format description:\n",
    "\n",
    "    /<CORPUS>/<USAGE>/<DIALECT>/<SEX><SPEAKER_ID>/<SENTENCE_ID>.<FILE_TYPE>\n",
    "\n",
    "     where,\n",
    "\n",
    "     CORPUS :== timit\n",
    "     USAGE :== train | test\n",
    "     DIALECT :== dr1 | dr2 | dr3 | dr4 | dr5 | dr6 | dr7 | dr8 \n",
    "                 (see Table 1 for dialect code description)\n",
    "     SEX :== m | f\n",
    "     SPEAKER_ID :== <INITIALS><DIGIT>\n",
    "          \n",
    "          where, \n",
    "          INITIALS :== speaker initials, 3 letters\n",
    "          DIGIT :== number 0-9 to differentiate speakers with identical\n",
    "                    initials\n",
    "                              \n",
    "     SENTENCE_ID :== <TEXT_TYPE><SENTENCE_NUMBER>\n",
    "          \n",
    "          where,\n",
    "              \n",
    "          TEXT_TYPE :== sa | si | sx\n",
    "                        (see Section 2 for sentence text type description)\n",
    "          SENTENCE_NUMBER :== 1 ... 2342\n",
    "                    \n",
    "     FILE_TYPE :== wav | txt | wrd | phn\n",
    "                   (see Table 5 for file type description)\n",
    "\n",
    "Examples:\n",
    "     /timit/train/dr1/fcjf0/sa1.wav\n",
    "                         \n",
    "     (TIMIT corpus, training set, dialect region 1, female speaker, \n",
    "      speaker-ID \"cjf0\", sentence text \"sa1\", speech waveform file)\n",
    "      \n",
    "\n",
    "      /timit/test/df5/mbpm0/sx407.phn\n",
    "      \n",
    "      (TIMIT corpus, test set, dialect region 5, male speaker, speaker-ID\n",
    "       \"bpm0\", sentence text \"sx407\", phonetic transcription file)\n",
    "      "
   ]
  },
  {
   "cell_type": "markdown",
   "metadata": {},
   "source": [
    "### Take a look at the data"
   ]
  },
  {
   "cell_type": "code",
   "execution_count": 7,
   "metadata": {},
   "outputs": [
    {
     "data": {
      "text/plain": [
       "[PosixPath('/home/ste/.fastai/data/timit/TRAIN'),\n",
       " PosixPath('/home/ste/.fastai/data/timit/TEST'),\n",
       " PosixPath('/home/ste/.fastai/data/timit/DOC'),\n",
       " PosixPath('/home/ste/.fastai/data/timit/README.DOC'),\n",
       " PosixPath('/home/ste/.fastai/data/timit/models')]"
      ]
     },
     "execution_count": 7,
     "metadata": {},
     "output_type": "execute_result"
    }
   ],
   "source": [
    "path.ls()"
   ]
  },
  {
   "cell_type": "code",
   "execution_count": 8,
   "metadata": {},
   "outputs": [],
   "source": [
    "#!cat /home/ste/.fastai/data/timit/README.DOC"
   ]
  },
  {
   "cell_type": "markdown",
   "metadata": {},
   "source": [
    "The dataset contains \n",
    "* TRAIN: both X and Y data\n",
    "* TEST: both X and Y data\n",
    "\n",
    "**IMPORTANT**: the dataset provide it's own TEST set with labels.\n",
    "According to the *file description* we've to understand if the test set is actually an **HOLD OUT** set (unseen speaker/dialect) or not."
   ]
  },
  {
   "cell_type": "markdown",
   "metadata": {},
   "source": [
    "### Sample format\n",
    "\n",
    "All the timit samples are provided with the following structure:\n",
    "\n",
    "* WAV: The actual sound \n",
    "* WRD: Word annotation\n",
    "* PHN: Phoneme annotation \n",
    "* TXT: The complete transcription of the file"
   ]
  },
  {
   "cell_type": "code",
   "execution_count": 9,
   "metadata": {},
   "outputs": [],
   "source": [
    "baseSample = str(path) + '/TRAIN/DR5/MBGT0/SA2'"
   ]
  },
  {
   "cell_type": "code",
   "execution_count": 10,
   "metadata": {},
   "outputs": [
    {
     "data": {
      "text/html": [
       "REPRESENTATION<br />\n",
       "                <audio controls=\"controls\" >\n",
       "                    <source src=\"data:audio/wav;base64,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\" type=\"audio/wav\" />\n",
       "                    Your browser does not support the audio element.\n",
       "                </audio>\n",
       "              "
      ],
      "text/plain": [
       "AudioItem REPRESENTATION"
      ]
     },
     "metadata": {},
     "output_type": "display_data"
    }
   ],
   "source": [
    "# Audio file\n",
    "baseSample_ad = AudioData.load(baseSample + '.WAV')\n",
    "display(AudioItem(baseSample_ad))"
   ]
  },
  {
   "cell_type": "code",
   "execution_count": 11,
   "metadata": {},
   "outputs": [
    {
     "data": {
      "text/html": [
       "<div>\n",
       "<style scoped>\n",
       "    .dataframe tbody tr th:only-of-type {\n",
       "        vertical-align: middle;\n",
       "    }\n",
       "\n",
       "    .dataframe tbody tr th {\n",
       "        vertical-align: top;\n",
       "    }\n",
       "\n",
       "    .dataframe thead th {\n",
       "        text-align: right;\n",
       "    }\n",
       "</style>\n",
       "<table border=\"1\" class=\"dataframe\">\n",
       "  <thead>\n",
       "    <tr style=\"text-align: right;\">\n",
       "      <th></th>\n",
       "      <th>start</th>\n",
       "      <th>end</th>\n",
       "      <th>phn</th>\n",
       "    </tr>\n",
       "  </thead>\n",
       "  <tbody>\n",
       "    <tr>\n",
       "      <th>0</th>\n",
       "      <td>0</td>\n",
       "      <td>3750</td>\n",
       "      <td>h#</td>\n",
       "    </tr>\n",
       "    <tr>\n",
       "      <th>1</th>\n",
       "      <td>3750</td>\n",
       "      <td>4060</td>\n",
       "      <td>d</td>\n",
       "    </tr>\n",
       "    <tr>\n",
       "      <th>2</th>\n",
       "      <td>4060</td>\n",
       "      <td>5960</td>\n",
       "      <td>ow</td>\n",
       "    </tr>\n",
       "    <tr>\n",
       "      <th>3</th>\n",
       "      <td>5960</td>\n",
       "      <td>6649</td>\n",
       "      <td>nx</td>\n",
       "    </tr>\n",
       "    <tr>\n",
       "      <th>4</th>\n",
       "      <td>6649</td>\n",
       "      <td>9566</td>\n",
       "      <td>ae</td>\n",
       "    </tr>\n",
       "  </tbody>\n",
       "</table>\n",
       "</div>"
      ],
      "text/plain": [
       "   start   end phn\n",
       "0  0      3750  h#\n",
       "1  3750   4060  d \n",
       "2  4060   5960  ow\n",
       "3  5960   6649  nx\n",
       "4  6649   9566  ae"
      ]
     },
     "execution_count": 11,
     "metadata": {},
     "output_type": "execute_result"
    }
   ],
   "source": [
    "# Phoneme file\n",
    "baseSample_phn = pd.read_csv(baseSample + '.PHN', delimiter=' ', header=None, names=['start','end','phn'])\n",
    "baseSample_phn.head()"
   ]
  },
  {
   "cell_type": "code",
   "execution_count": 12,
   "metadata": {},
   "outputs": [
    {
     "data": {
      "text/html": [
       "<div>\n",
       "<style scoped>\n",
       "    .dataframe tbody tr th:only-of-type {\n",
       "        vertical-align: middle;\n",
       "    }\n",
       "\n",
       "    .dataframe tbody tr th {\n",
       "        vertical-align: top;\n",
       "    }\n",
       "\n",
       "    .dataframe thead th {\n",
       "        text-align: right;\n",
       "    }\n",
       "</style>\n",
       "<table border=\"1\" class=\"dataframe\">\n",
       "  <thead>\n",
       "    <tr style=\"text-align: right;\">\n",
       "      <th></th>\n",
       "      <th>start</th>\n",
       "      <th>end</th>\n",
       "      <th>wrd</th>\n",
       "    </tr>\n",
       "  </thead>\n",
       "  <tbody>\n",
       "    <tr>\n",
       "      <th>0</th>\n",
       "      <td>3750</td>\n",
       "      <td>6649</td>\n",
       "      <td>don't</td>\n",
       "    </tr>\n",
       "    <tr>\n",
       "      <th>1</th>\n",
       "      <td>6649</td>\n",
       "      <td>11553</td>\n",
       "      <td>ask</td>\n",
       "    </tr>\n",
       "    <tr>\n",
       "      <th>2</th>\n",
       "      <td>11553</td>\n",
       "      <td>12960</td>\n",
       "      <td>me</td>\n",
       "    </tr>\n",
       "    <tr>\n",
       "      <th>3</th>\n",
       "      <td>12960</td>\n",
       "      <td>14360</td>\n",
       "      <td>to</td>\n",
       "    </tr>\n",
       "    <tr>\n",
       "      <th>4</th>\n",
       "      <td>14360</td>\n",
       "      <td>21013</td>\n",
       "      <td>carry</td>\n",
       "    </tr>\n",
       "  </tbody>\n",
       "</table>\n",
       "</div>"
      ],
      "text/plain": [
       "   start    end    wrd\n",
       "0  3750   6649   don't\n",
       "1  6649   11553  ask  \n",
       "2  11553  12960  me   \n",
       "3  12960  14360  to   \n",
       "4  14360  21013  carry"
      ]
     },
     "execution_count": 12,
     "metadata": {},
     "output_type": "execute_result"
    }
   ],
   "source": [
    "# Phoneme file\n",
    "baseSample_wrd = pd.read_csv(baseSample + '.WRD', delimiter=' ', header=None, names=['start','end','wrd'])\n",
    "baseSample_wrd.head()"
   ]
  },
  {
   "cell_type": "code",
   "execution_count": 13,
   "metadata": {},
   "outputs": [
    {
     "name": "stdout",
     "output_type": "stream",
     "text": [
      "[\"0 47514 Don't ask me to carry an oily rag like that.\\n\"]\n"
     ]
    }
   ],
   "source": [
    "# Phoneme file\n",
    "with open(baseSample + '.TXT') as f:\n",
    "    lines = f.readlines()\n",
    "    print(lines)"
   ]
  },
  {
   "cell_type": "markdown",
   "metadata": {},
   "source": [
    "### Parsing the data"
   ]
  },
  {
   "cell_type": "code",
   "execution_count": 14,
   "metadata": {},
   "outputs": [
    {
     "name": "stdout",
     "output_type": "stream",
     "text": [
      "TEST PASED\n"
     ]
    }
   ],
   "source": [
    "def extractInformationsFromAbsolutePath(s: str):\n",
    "    items = list(filter(lambda x: len(x)>0,s.split('/')))\n",
    "    USAGE = items[0]\n",
    "    DIALECT = items[1]\n",
    "    SEX = items[2][0]\n",
    "    SPEAKER_ID = items[2][1:]\n",
    "    SENTENCE_ID = items[3]\n",
    "    return USAGE, DIALECT, SEX, SPEAKER_ID, SENTENCE_ID\n",
    "    \n",
    "def test_extractInformationsFromAbsolutePath():\n",
    "    USAGE, DIALECT, SEX, SPEAKER_ID, SENTENCE_ID = extractInformationsFromAbsolutePath('/TRAIN/DR7/MPAR0/SI2206')\n",
    "    assert 'TRAIN'==USAGE\n",
    "    assert 'DR7'==DIALECT\n",
    "    assert 'M'==SEX\n",
    "    assert 'PAR0'==SPEAKER_ID\n",
    "    assert 'SI2206'==SENTENCE_ID\n",
    "    print('TEST PASED')\n",
    "\n",
    "test_extractInformationsFromAbsolutePath()"
   ]
  },
  {
   "cell_type": "code",
   "execution_count": 15,
   "metadata": {},
   "outputs": [
    {
     "data": {
      "text/html": [
       "<div>\n",
       "<style scoped>\n",
       "    .dataframe tbody tr th:only-of-type {\n",
       "        vertical-align: middle;\n",
       "    }\n",
       "\n",
       "    .dataframe tbody tr th {\n",
       "        vertical-align: top;\n",
       "    }\n",
       "\n",
       "    .dataframe thead th {\n",
       "        text-align: right;\n",
       "    }\n",
       "</style>\n",
       "<table border=\"1\" class=\"dataframe\">\n",
       "  <thead>\n",
       "    <tr style=\"text-align: right;\">\n",
       "      <th></th>\n",
       "      <th>relPath</th>\n",
       "      <th>USAGE</th>\n",
       "      <th>DIALECT</th>\n",
       "      <th>SEX</th>\n",
       "      <th>SPEAKER_ID</th>\n",
       "      <th>SENTENCE_ID</th>\n",
       "    </tr>\n",
       "    <tr>\n",
       "      <th>IDX</th>\n",
       "      <th></th>\n",
       "      <th></th>\n",
       "      <th></th>\n",
       "      <th></th>\n",
       "      <th></th>\n",
       "      <th></th>\n",
       "    </tr>\n",
       "  </thead>\n",
       "  <tbody>\n",
       "    <tr>\n",
       "      <th>MPAR0:SI2206</th>\n",
       "      <td>/TRAIN/DR7/MPAR0/SI2206</td>\n",
       "      <td>TRAIN</td>\n",
       "      <td>DR7</td>\n",
       "      <td>M</td>\n",
       "      <td>PAR0</td>\n",
       "      <td>SI2206</td>\n",
       "    </tr>\n",
       "    <tr>\n",
       "      <th>MPAR0:SX316</th>\n",
       "      <td>/TRAIN/DR7/MPAR0/SX316</td>\n",
       "      <td>TRAIN</td>\n",
       "      <td>DR7</td>\n",
       "      <td>M</td>\n",
       "      <td>PAR0</td>\n",
       "      <td>SX316</td>\n",
       "    </tr>\n",
       "    <tr>\n",
       "      <th>MPAR0:SI1576</th>\n",
       "      <td>/TRAIN/DR7/MPAR0/SI1576</td>\n",
       "      <td>TRAIN</td>\n",
       "      <td>DR7</td>\n",
       "      <td>M</td>\n",
       "      <td>PAR0</td>\n",
       "      <td>SI1576</td>\n",
       "    </tr>\n",
       "    <tr>\n",
       "      <th>MPAR0:SA1</th>\n",
       "      <td>/TRAIN/DR7/MPAR0/SA1</td>\n",
       "      <td>TRAIN</td>\n",
       "      <td>DR7</td>\n",
       "      <td>M</td>\n",
       "      <td>PAR0</td>\n",
       "      <td>SA1</td>\n",
       "    </tr>\n",
       "    <tr>\n",
       "      <th>MPAR0:SX46</th>\n",
       "      <td>/TRAIN/DR7/MPAR0/SX46</td>\n",
       "      <td>TRAIN</td>\n",
       "      <td>DR7</td>\n",
       "      <td>M</td>\n",
       "      <td>PAR0</td>\n",
       "      <td>SX46</td>\n",
       "    </tr>\n",
       "  </tbody>\n",
       "</table>\n",
       "</div>"
      ],
      "text/plain": [
       "                              relPath  USAGE DIALECT SEX SPEAKER_ID  \\\n",
       "IDX                                                                   \n",
       "MPAR0:SI2206  /TRAIN/DR7/MPAR0/SI2206  TRAIN  DR7     M   PAR0        \n",
       "MPAR0:SX316   /TRAIN/DR7/MPAR0/SX316   TRAIN  DR7     M   PAR0        \n",
       "MPAR0:SI1576  /TRAIN/DR7/MPAR0/SI1576  TRAIN  DR7     M   PAR0        \n",
       "MPAR0:SA1     /TRAIN/DR7/MPAR0/SA1     TRAIN  DR7     M   PAR0        \n",
       "MPAR0:SX46    /TRAIN/DR7/MPAR0/SX46    TRAIN  DR7     M   PAR0        \n",
       "\n",
       "             SENTENCE_ID  \n",
       "IDX                       \n",
       "MPAR0:SI2206  SI2206      \n",
       "MPAR0:SX316   SX316       \n",
       "MPAR0:SI1576  SI1576      \n",
       "MPAR0:SA1     SA1         \n",
       "MPAR0:SX46    SX46        "
      ]
     },
     "execution_count": 15,
     "metadata": {},
     "output_type": "execute_result"
    }
   ],
   "source": [
    "def extractTimitDatasetInformation(path):\n",
    "    '''Put in a dataframe all the information about samples'''\n",
    "    import glob\n",
    "    files = glob.glob(str(path)+ '/**/*.WAV', recursive=True)\n",
    "    ret = pd.DataFrame(files, columns=['relPath'])\n",
    "    #Remove path and extension\n",
    "    ret['relPath'] = ret['relPath'].apply(lambda x: x.replace(str(path),'').replace('.WAV',''))\n",
    "\n",
    "    def extractIntoSeries(s):\n",
    "        USAGE, DIALECT, SEX, SPEAKER_ID, SENTENCE_ID = extractInformationsFromAbsolutePath(s)\n",
    "        return pd.Series({\n",
    "            'USAGE': USAGE,\n",
    "            'DIALECT': DIALECT,\n",
    "            'SEX': SEX,\n",
    "            'SPEAKER_ID': SPEAKER_ID,\n",
    "            'SENTENCE_ID': SENTENCE_ID,\n",
    "            'IDX': SEX + SPEAKER_ID + ':' + SENTENCE_ID})\n",
    "\n",
    "    #IMPORTANT: Apply multiple transformations at one\n",
    "    ret = ret.merge(ret['relPath'].apply(lambda s: extractIntoSeries(s)), left_index=True, right_index=True)    \n",
    "    ret = ret.set_index(['IDX']) # Add index\n",
    "    return ret\n",
    "                \n",
    "all_files_df = extractTimitDatasetInformation(path)\n",
    "all_files_df.head()"
   ]
  },
  {
   "cell_type": "code",
   "execution_count": 16,
   "metadata": {},
   "outputs": [
    {
     "name": "stdout",
     "output_type": "stream",
     "text": [
      "Number of files: 6300\n"
     ]
    }
   ],
   "source": [
    "print(f'Number of files: {len(all_files_df)}')"
   ]
  },
  {
   "cell_type": "markdown",
   "metadata": {},
   "source": [
    "### Data Overview  "
   ]
  },
  {
   "cell_type": "code",
   "execution_count": 17,
   "metadata": {},
   "outputs": [
    {
     "data": {
      "text/plain": [
       "USAGE\n",
       "TEST     1680\n",
       "TRAIN    4620\n",
       "Name: relPath, dtype: int64"
      ]
     },
     "execution_count": 17,
     "metadata": {},
     "output_type": "execute_result"
    }
   ],
   "source": [
    "#Number of files in train and test set\n",
    "all_files_df.groupby(['USAGE'])['relPath'].count()"
   ]
  },
  {
   "cell_type": "markdown",
   "metadata": {},
   "source": [
    "### Determine if the test set is an HOLD OUT set.\n",
    "We'll check if in the TEST there are unseen data. "
   ]
  },
  {
   "cell_type": "code",
   "execution_count": 18,
   "metadata": {},
   "outputs": [],
   "source": [
    "#A,B contains the tuples of SEX','SPEAKER_ID','SENTENCE_ID\n",
    "A = list(all_files_df[all_files_df['USAGE']=='TRAIN'].groupby(['SEX','SPEAKER_ID','SENTENCE_ID']).indices.keys())\n",
    "B = list(all_files_df[all_files_df['USAGE']=='TEST'].groupby(['SEX','SPEAKER_ID','SENTENCE_ID']).indices.keys())"
   ]
  },
  {
   "cell_type": "code",
   "execution_count": 19,
   "metadata": {},
   "outputs": [
    {
     "name": "stdout",
     "output_type": "stream",
     "text": [
      "Number of items in B present in A: 0\n"
     ]
    }
   ],
   "source": [
    "nItemsBinA = len(list(filter(lambda x: x is True, [item in A for item in B])))\n",
    "print(f'Number of items in B present in A: {nItemsBinA}')"
   ]
  },
  {
   "cell_type": "markdown",
   "metadata": {},
   "source": [
    "**IMPORTANT**: yes, this is an **hold out set**, so let's use it as validation set."
   ]
  },
  {
   "cell_type": "markdown",
   "metadata": {},
   "source": [
    "# Word classification"
   ]
  },
  {
   "cell_type": "markdown",
   "metadata": {},
   "source": [
    "## Create data bunch"
   ]
  },
  {
   "cell_type": "code",
   "execution_count": 20,
   "metadata": {},
   "outputs": [],
   "source": [
    "def process_phn_file(idx:str, phn_file, sig, sr, ext, delimiter=' ')->pd.DataFrame:\n",
    "    df = pd.read_csv(phn_file, delimiter=delimiter, header=None)\n",
    "    df.columns = ['START', 'END', ext]\n",
    "    df['SIG'] = df.apply(lambda x : sig[x['START']: x['END']], axis=1)\n",
    "    df['SR'] = sr\n",
    "    df['IDX'] = idx\n",
    "    df['IDXN'] = pd.Series(map(lambda x: idx+':'+str(x), range(len(df))))   \n",
    "    df = df.set_index(['IDXN'])\n",
    "    return df"
   ]
  },
  {
   "cell_type": "code",
   "execution_count": 21,
   "metadata": {},
   "outputs": [
    {
     "name": "stdout",
     "output_type": "stream",
     "text": [
      "/home/ste/.fastai/data/timit/TRAIN/DR7/MPAR0/SI2206.WAV \tExists: True\n"
     ]
    },
    {
     "data": {
      "text/html": [
       "<div>\n",
       "<style scoped>\n",
       "    .dataframe tbody tr th:only-of-type {\n",
       "        vertical-align: middle;\n",
       "    }\n",
       "\n",
       "    .dataframe tbody tr th {\n",
       "        vertical-align: top;\n",
       "    }\n",
       "\n",
       "    .dataframe thead th {\n",
       "        text-align: right;\n",
       "    }\n",
       "</style>\n",
       "<table border=\"1\" class=\"dataframe\">\n",
       "  <thead>\n",
       "    <tr style=\"text-align: right;\">\n",
       "      <th></th>\n",
       "      <th>START</th>\n",
       "      <th>END</th>\n",
       "      <th>PHN</th>\n",
       "      <th>SIG</th>\n",
       "      <th>SR</th>\n",
       "      <th>IDX</th>\n",
       "    </tr>\n",
       "    <tr>\n",
       "      <th>IDXN</th>\n",
       "      <th></th>\n",
       "      <th></th>\n",
       "      <th></th>\n",
       "      <th></th>\n",
       "      <th></th>\n",
       "      <th></th>\n",
       "    </tr>\n",
       "  </thead>\n",
       "  <tbody>\n",
       "    <tr>\n",
       "      <th>MPAR0:SI2206:0</th>\n",
       "      <td>0</td>\n",
       "      <td>3212</td>\n",
       "      <td>h#</td>\n",
       "      <td>[tensor(3.0518e-05), tensor(0.), tensor(3.0518e-05), tensor(6.1035e-05), tensor(0.0001), tensor(-6.1035e-05), tensor(0.0001), tensor(0.), tensor(-9.1553e-05), tensor(3.0518e-05), tensor(0.0001), tensor(6.1035e-05), tensor(9.1553e-05), tensor(6.1035e-05), tensor(0.0001), tensor(-3.0518e-05), tensor(3.0518e-05), tensor(3.0518e-05), tensor(0.0001), tensor(0.0002), tensor(9.1553e-05), tensor(9.1553e-05), tensor(0.), tensor(0.0001), tensor(6.1035e-05), tensor(6.1035e-05), tensor(3.0518e-05), tensor(0.0002), tensor(6.1035e-05), tensor(0.0001), tensor(3.0518e-05), tensor(0.0001), tensor(3.0518e-05), tensor(6.1035e-05), tensor(3.0518e-05), tensor(9.1553e-05), tensor(9.1553e-05), tensor(-3.0518e-05), tensor(0.0002), tensor(0.0001), tensor(0.0002), tensor(-3.0518e-05), tensor(0.0001), tensor(6.1035e-05), tensor(0.0002), tensor(9.1553e-05), tensor(9.1553e-05), tensor(9.1553e-05), tensor(0.), tensor(0.), tensor(3.0518e-05), tensor(6.1035e-05), tensor(0.), tensor(3.0518e-05), tensor(0.), tensor(3.0518e-05), tensor(6.1035e-05), tensor(3.0518e-05), tensor(6.1035e-05), tensor(0.), tensor(0.0001), tensor(9.1553e-05), tensor(9.1553e-05), tensor(3.0518e-05), tensor(0.0002), tensor(6.1035e-05), tensor(9.1553e-05), tensor(0.0002), tensor(0.0001), tensor(9.1553e-05), tensor(9.1553e-05), tensor(6.1035e-05), tensor(0.0002), tensor(9.1553e-05), tensor(0.0001), tensor(0.0002), tensor(9.1553e-05), tensor(0.0002), tensor(0.0002), tensor(0.0001), tensor(0.0002), tensor(9.1553e-05), tensor(9.1553e-05), tensor(9.1553e-05), tensor(0.0001), tensor(0.0002), tensor(0.0002), tensor(0.0002), tensor(6.1035e-05), tensor(0.0001), tensor(9.1553e-05), tensor(9.1553e-05), tensor(9.1553e-05), tensor(0.0001), tensor(9.1553e-05), tensor(0.0001), tensor(0.0002), tensor(3.0518e-05), tensor(0.0001), tensor(9.1553e-05), ...]</td>\n",
       "      <td>16000</td>\n",
       "      <td>MPAR0:SI2206</td>\n",
       "    </tr>\n",
       "    <tr>\n",
       "      <th>MPAR0:SI2206:1</th>\n",
       "      <td>3212</td>\n",
       "      <td>3648</td>\n",
       "      <td>n</td>\n",
       "      <td>[tensor(0.0002), tensor(0.0002), tensor(0.0002), tensor(0.0004), tensor(0.0004), tensor(0.0004), tensor(0.0005), tensor(0.0004), tensor(0.0003), tensor(0.0003), tensor(0.0002), tensor(-0.0003), tensor(0.0008), tensor(0.0011), tensor(-0.0012), tensor(0.0018), tensor(-0.0004), tensor(0.0007), tensor(0.0002), tensor(3.0518e-05), tensor(9.1553e-05), tensor(0.0009), tensor(-9.1553e-05), tensor(0.0006), tensor(0.), tensor(0.0011), tensor(9.1553e-05), tensor(0.0008), tensor(0.0005), tensor(0.0010), tensor(0.0009), tensor(0.0005), tensor(0.0012), tensor(0.0009), tensor(0.0014), tensor(0.0008), tensor(0.0011), tensor(0.0008), tensor(0.0008), tensor(0.0007), tensor(0.0006), tensor(0.0009), tensor(0.0005), tensor(0.0005), tensor(0.0003), tensor(0.0002), tensor(0.0003), tensor(0.0002), tensor(0.0002), tensor(6.1035e-05), tensor(-0.0002), tensor(-0.0004), tensor(-0.0003), tensor(-0.0004), tensor(-0.0005), tensor(-0.0007), tensor(-0.0010), tensor(-0.0013), tensor(-0.0013), tensor(-0.0013), tensor(-0.0014), tensor(-0.0016), tensor(-0.0019), tensor(-0.0022), tensor(-0.0023), tensor(-0.0025), tensor(-0.0025), tensor(-0.0026), tensor(-0.0028), tensor(-0.0028), tensor(-0.0030), tensor(-0.0029), tensor(-0.0028), tensor(-0.0027), tensor(-0.0026), tensor(-0.0028), tensor(-0.0028), tensor(-0.0028), tensor(-0.0025), tensor(-0.0020), tensor(-0.0017), tensor(-0.0016), tensor(-0.0016), tensor(-0.0017), tensor(-0.0016), tensor(-0.0016), tensor(-0.0011), tensor(-0.0011), tensor(-0.0009), tensor(-0.0011), tensor(-0.0013), tensor(-0.0013), tensor(-0.0015), tensor(-0.0012), tensor(-0.0008), tensor(-0.0005), tensor(0.0002), tensor(0.0006), tensor(0.0016), tensor(0.0021), ...]</td>\n",
       "      <td>16000</td>\n",
       "      <td>MPAR0:SI2206</td>\n",
       "    </tr>\n",
       "  </tbody>\n",
       "</table>\n",
       "</div>"
      ],
      "text/plain": [
       "                START   END PHN  \\\n",
       "IDXN                              \n",
       "MPAR0:SI2206:0  0      3212  h#   \n",
       "MPAR0:SI2206:1  3212   3648  n    \n",
       "\n",
       "                                                                                                                                                                                                                                                                                                                                                                                                                                                                                                                                                                                                                                                                                                                                                                                                                                                                                                                                                                                                                                                                                                                                                                                                                                                                                                                                                                                                                                                                                                                                                                                                                                                                                                                                                                                                                                                                                           SIG  \\\n",
       "IDXN                                                                                                                                                                                                                                                                                                                                                                                                                                                                                                                                                                                                                                                                                                                                                                                                                                                                                                                                                                                                                                                                                                                                                                                                                                                                                                                                                                                                                                                                                                                                                                                                                                                                                                                                                                                                                                                                                             \n",
       "MPAR0:SI2206:0  [tensor(3.0518e-05), tensor(0.), tensor(3.0518e-05), tensor(6.1035e-05), tensor(0.0001), tensor(-6.1035e-05), tensor(0.0001), tensor(0.), tensor(-9.1553e-05), tensor(3.0518e-05), tensor(0.0001), tensor(6.1035e-05), tensor(9.1553e-05), tensor(6.1035e-05), tensor(0.0001), tensor(-3.0518e-05), tensor(3.0518e-05), tensor(3.0518e-05), tensor(0.0001), tensor(0.0002), tensor(9.1553e-05), tensor(9.1553e-05), tensor(0.), tensor(0.0001), tensor(6.1035e-05), tensor(6.1035e-05), tensor(3.0518e-05), tensor(0.0002), tensor(6.1035e-05), tensor(0.0001), tensor(3.0518e-05), tensor(0.0001), tensor(3.0518e-05), tensor(6.1035e-05), tensor(3.0518e-05), tensor(9.1553e-05), tensor(9.1553e-05), tensor(-3.0518e-05), tensor(0.0002), tensor(0.0001), tensor(0.0002), tensor(-3.0518e-05), tensor(0.0001), tensor(6.1035e-05), tensor(0.0002), tensor(9.1553e-05), tensor(9.1553e-05), tensor(9.1553e-05), tensor(0.), tensor(0.), tensor(3.0518e-05), tensor(6.1035e-05), tensor(0.), tensor(3.0518e-05), tensor(0.), tensor(3.0518e-05), tensor(6.1035e-05), tensor(3.0518e-05), tensor(6.1035e-05), tensor(0.), tensor(0.0001), tensor(9.1553e-05), tensor(9.1553e-05), tensor(3.0518e-05), tensor(0.0002), tensor(6.1035e-05), tensor(9.1553e-05), tensor(0.0002), tensor(0.0001), tensor(9.1553e-05), tensor(9.1553e-05), tensor(6.1035e-05), tensor(0.0002), tensor(9.1553e-05), tensor(0.0001), tensor(0.0002), tensor(9.1553e-05), tensor(0.0002), tensor(0.0002), tensor(0.0001), tensor(0.0002), tensor(9.1553e-05), tensor(9.1553e-05), tensor(9.1553e-05), tensor(0.0001), tensor(0.0002), tensor(0.0002), tensor(0.0002), tensor(6.1035e-05), tensor(0.0001), tensor(9.1553e-05), tensor(9.1553e-05), tensor(9.1553e-05), tensor(0.0001), tensor(9.1553e-05), tensor(0.0001), tensor(0.0002), tensor(3.0518e-05), tensor(0.0001), tensor(9.1553e-05), ...]   \n",
       "MPAR0:SI2206:1  [tensor(0.0002), tensor(0.0002), tensor(0.0002), tensor(0.0004), tensor(0.0004), tensor(0.0004), tensor(0.0005), tensor(0.0004), tensor(0.0003), tensor(0.0003), tensor(0.0002), tensor(-0.0003), tensor(0.0008), tensor(0.0011), tensor(-0.0012), tensor(0.0018), tensor(-0.0004), tensor(0.0007), tensor(0.0002), tensor(3.0518e-05), tensor(9.1553e-05), tensor(0.0009), tensor(-9.1553e-05), tensor(0.0006), tensor(0.), tensor(0.0011), tensor(9.1553e-05), tensor(0.0008), tensor(0.0005), tensor(0.0010), tensor(0.0009), tensor(0.0005), tensor(0.0012), tensor(0.0009), tensor(0.0014), tensor(0.0008), tensor(0.0011), tensor(0.0008), tensor(0.0008), tensor(0.0007), tensor(0.0006), tensor(0.0009), tensor(0.0005), tensor(0.0005), tensor(0.0003), tensor(0.0002), tensor(0.0003), tensor(0.0002), tensor(0.0002), tensor(6.1035e-05), tensor(-0.0002), tensor(-0.0004), tensor(-0.0003), tensor(-0.0004), tensor(-0.0005), tensor(-0.0007), tensor(-0.0010), tensor(-0.0013), tensor(-0.0013), tensor(-0.0013), tensor(-0.0014), tensor(-0.0016), tensor(-0.0019), tensor(-0.0022), tensor(-0.0023), tensor(-0.0025), tensor(-0.0025), tensor(-0.0026), tensor(-0.0028), tensor(-0.0028), tensor(-0.0030), tensor(-0.0029), tensor(-0.0028), tensor(-0.0027), tensor(-0.0026), tensor(-0.0028), tensor(-0.0028), tensor(-0.0028), tensor(-0.0025), tensor(-0.0020), tensor(-0.0017), tensor(-0.0016), tensor(-0.0016), tensor(-0.0017), tensor(-0.0016), tensor(-0.0016), tensor(-0.0011), tensor(-0.0011), tensor(-0.0009), tensor(-0.0011), tensor(-0.0013), tensor(-0.0013), tensor(-0.0015), tensor(-0.0012), tensor(-0.0008), tensor(-0.0005), tensor(0.0002), tensor(0.0006), tensor(0.0016), tensor(0.0021), ...]                                                                                                                                          \n",
       "\n",
       "                   SR           IDX  \n",
       "IDXN                                 \n",
       "MPAR0:SI2206:0  16000  MPAR0:SI2206  \n",
       "MPAR0:SI2206:1  16000  MPAR0:SI2206  "
      ]
     },
     "metadata": {},
     "output_type": "display_data"
    },
    {
     "name": "stdout",
     "output_type": "stream",
     "text": [
      "Number of rows: 54\n",
      "TEST DONE\n"
     ]
    }
   ],
   "source": [
    "def extractItems(path, idx, relativePath, ext, verbose=False)->pd.DataFrame:\n",
    "    base_path = str(path) + relativePath\n",
    "    wav_file = base_path + \".WAV\"\n",
    "    wav_exists = os.path.isfile(wav_file)\n",
    "    if verbose: print(wav_file, f'\\tExists: {wav_exists}')\n",
    "    #Sanity check\n",
    "    if not wav_exists: return none\n",
    "    #Proceed\n",
    "    sigTwoChannels,sr = torchaudio.load(wav_file)\n",
    "    sig = sigTwoChannels[0] # MONO NO STEREO - convert to \"one dimension\"\n",
    "    phn_file = base_path + '.' + ext\n",
    "            \n",
    "    ret = process_phn_file(idx, phn_file, sig, sr, ext, delimiter=' ')\n",
    "    \n",
    "    return ret\n",
    "\n",
    "#    sig,sr = torchaudio.load(str(phn_file.replace('PHN', 'WAV')))\n",
    "#    df = process_phn_file(phn_file, sig, sr, delimiter=' ')\n",
    "#    df['Source'] = phn_file\n",
    "#    final = final.append(df)\n",
    "            \n",
    "def test_extractItems_PHN():\n",
    "    row = all_files_df.iloc[0]\n",
    "    ret_df = extractItems(path, row.name, row['relPath'], 'PHN', verbose=True)\n",
    "    display(ret_df.head(2))\n",
    "    print(f'Number of rows: {len(ret_df)}')\n",
    "    assert 54==len(ret_df)\n",
    "    print('TEST DONE')\n",
    "\n",
    "test_extractItems_PHN()"
   ]
  },
  {
   "cell_type": "code",
   "execution_count": 22,
   "metadata": {},
   "outputs": [
    {
     "name": "stdout",
     "output_type": "stream",
     "text": [
      "/home/ste/.fastai/data/timit/TRAIN/DR7/MPAR0/SI2206.WAV \tExists: True\n"
     ]
    },
    {
     "data": {
      "text/html": [
       "<div>\n",
       "<style scoped>\n",
       "    .dataframe tbody tr th:only-of-type {\n",
       "        vertical-align: middle;\n",
       "    }\n",
       "\n",
       "    .dataframe tbody tr th {\n",
       "        vertical-align: top;\n",
       "    }\n",
       "\n",
       "    .dataframe thead th {\n",
       "        text-align: right;\n",
       "    }\n",
       "</style>\n",
       "<table border=\"1\" class=\"dataframe\">\n",
       "  <thead>\n",
       "    <tr style=\"text-align: right;\">\n",
       "      <th></th>\n",
       "      <th>START</th>\n",
       "      <th>END</th>\n",
       "      <th>WRD</th>\n",
       "      <th>SIG</th>\n",
       "      <th>SR</th>\n",
       "      <th>IDX</th>\n",
       "    </tr>\n",
       "    <tr>\n",
       "      <th>IDXN</th>\n",
       "      <th></th>\n",
       "      <th></th>\n",
       "      <th></th>\n",
       "      <th></th>\n",
       "      <th></th>\n",
       "      <th></th>\n",
       "    </tr>\n",
       "  </thead>\n",
       "  <tbody>\n",
       "    <tr>\n",
       "      <th>MPAR0:SI2206:0</th>\n",
       "      <td>3212</td>\n",
       "      <td>6050</td>\n",
       "      <td>not</td>\n",
       "      <td>[tensor(0.0002), tensor(0.0002), tensor(0.0002), tensor(0.0004), tensor(0.0004), tensor(0.0004), tensor(0.0005), tensor(0.0004), tensor(0.0003), tensor(0.0003), tensor(0.0002), tensor(-0.0003), tensor(0.0008), tensor(0.0011), tensor(-0.0012), tensor(0.0018), tensor(-0.0004), tensor(0.0007), tensor(0.0002), tensor(3.0518e-05), tensor(9.1553e-05), tensor(0.0009), tensor(-9.1553e-05), tensor(0.0006), tensor(0.), tensor(0.0011), tensor(9.1553e-05), tensor(0.0008), tensor(0.0005), tensor(0.0010), tensor(0.0009), tensor(0.0005), tensor(0.0012), tensor(0.0009), tensor(0.0014), tensor(0.0008), tensor(0.0011), tensor(0.0008), tensor(0.0008), tensor(0.0007), tensor(0.0006), tensor(0.0009), tensor(0.0005), tensor(0.0005), tensor(0.0003), tensor(0.0002), tensor(0.0003), tensor(0.0002), tensor(0.0002), tensor(6.1035e-05), tensor(-0.0002), tensor(-0.0004), tensor(-0.0003), tensor(-0.0004), tensor(-0.0005), tensor(-0.0007), tensor(-0.0010), tensor(-0.0013), tensor(-0.0013), tensor(-0.0013), tensor(-0.0014), tensor(-0.0016), tensor(-0.0019), tensor(-0.0022), tensor(-0.0023), tensor(-0.0025), tensor(-0.0025), tensor(-0.0026), tensor(-0.0028), tensor(-0.0028), tensor(-0.0030), tensor(-0.0029), tensor(-0.0028), tensor(-0.0027), tensor(-0.0026), tensor(-0.0028), tensor(-0.0028), tensor(-0.0028), tensor(-0.0025), tensor(-0.0020), tensor(-0.0017), tensor(-0.0016), tensor(-0.0016), tensor(-0.0017), tensor(-0.0016), tensor(-0.0016), tensor(-0.0011), tensor(-0.0011), tensor(-0.0009), tensor(-0.0011), tensor(-0.0013), tensor(-0.0013), tensor(-0.0015), tensor(-0.0012), tensor(-0.0008), tensor(-0.0005), tensor(0.0002), tensor(0.0006), tensor(0.0016), tensor(0.0021), ...]</td>\n",
       "      <td>16000</td>\n",
       "      <td>MPAR0:SI2206</td>\n",
       "    </tr>\n",
       "  </tbody>\n",
       "</table>\n",
       "</div>"
      ],
      "text/plain": [
       "                START   END  WRD  \\\n",
       "IDXN                               \n",
       "MPAR0:SI2206:0  3212   6050  not   \n",
       "\n",
       "                                                                                                                                                                                                                                                                                                                                                                                                                                                                                                                                                                                                                                                                                                                                                                                                                                                                                                                                                                                                                                                                                                                                                                                                                                                                                                                                                                                                                                                                                                                                                                                                                                                                                                                                                    SIG  \\\n",
       "IDXN                                                                                                                                                                                                                                                                                                                                                                                                                                                                                                                                                                                                                                                                                                                                                                                                                                                                                                                                                                                                                                                                                                                                                                                                                                                                                                                                                                                                                                                                                                                                                                                                                                                                                                                                                      \n",
       "MPAR0:SI2206:0  [tensor(0.0002), tensor(0.0002), tensor(0.0002), tensor(0.0004), tensor(0.0004), tensor(0.0004), tensor(0.0005), tensor(0.0004), tensor(0.0003), tensor(0.0003), tensor(0.0002), tensor(-0.0003), tensor(0.0008), tensor(0.0011), tensor(-0.0012), tensor(0.0018), tensor(-0.0004), tensor(0.0007), tensor(0.0002), tensor(3.0518e-05), tensor(9.1553e-05), tensor(0.0009), tensor(-9.1553e-05), tensor(0.0006), tensor(0.), tensor(0.0011), tensor(9.1553e-05), tensor(0.0008), tensor(0.0005), tensor(0.0010), tensor(0.0009), tensor(0.0005), tensor(0.0012), tensor(0.0009), tensor(0.0014), tensor(0.0008), tensor(0.0011), tensor(0.0008), tensor(0.0008), tensor(0.0007), tensor(0.0006), tensor(0.0009), tensor(0.0005), tensor(0.0005), tensor(0.0003), tensor(0.0002), tensor(0.0003), tensor(0.0002), tensor(0.0002), tensor(6.1035e-05), tensor(-0.0002), tensor(-0.0004), tensor(-0.0003), tensor(-0.0004), tensor(-0.0005), tensor(-0.0007), tensor(-0.0010), tensor(-0.0013), tensor(-0.0013), tensor(-0.0013), tensor(-0.0014), tensor(-0.0016), tensor(-0.0019), tensor(-0.0022), tensor(-0.0023), tensor(-0.0025), tensor(-0.0025), tensor(-0.0026), tensor(-0.0028), tensor(-0.0028), tensor(-0.0030), tensor(-0.0029), tensor(-0.0028), tensor(-0.0027), tensor(-0.0026), tensor(-0.0028), tensor(-0.0028), tensor(-0.0028), tensor(-0.0025), tensor(-0.0020), tensor(-0.0017), tensor(-0.0016), tensor(-0.0016), tensor(-0.0017), tensor(-0.0016), tensor(-0.0016), tensor(-0.0011), tensor(-0.0011), tensor(-0.0009), tensor(-0.0011), tensor(-0.0013), tensor(-0.0013), tensor(-0.0015), tensor(-0.0012), tensor(-0.0008), tensor(-0.0005), tensor(0.0002), tensor(0.0006), tensor(0.0016), tensor(0.0021), ...]   \n",
       "\n",
       "                   SR           IDX  \n",
       "IDXN                                 \n",
       "MPAR0:SI2206:0  16000  MPAR0:SI2206  "
      ]
     },
     "metadata": {},
     "output_type": "display_data"
    },
    {
     "name": "stdout",
     "output_type": "stream",
     "text": [
      "Number of rows: 14\n",
      "TEST DONE\n"
     ]
    }
   ],
   "source": [
    "def test_extractItems_WRD():\n",
    "    row = all_files_df.iloc[0]\n",
    "    ret_df = extractItems(path, row.name, row['relPath'], 'WRD', verbose=True)\n",
    "    display(ret_df.head(1))\n",
    "    print(f'Number of rows: {len(ret_df)}')\n",
    "    assert 14==len(ret_df)\n",
    "    print('TEST DONE')\n",
    "\n",
    "test_extractItems_WRD()"
   ]
  },
  {
   "cell_type": "code",
   "execution_count": 23,
   "metadata": {},
   "outputs": [
    {
     "data": {
      "text/html": [
       "<div>\n",
       "<style scoped>\n",
       "    .dataframe tbody tr th:only-of-type {\n",
       "        vertical-align: middle;\n",
       "    }\n",
       "\n",
       "    .dataframe tbody tr th {\n",
       "        vertical-align: top;\n",
       "    }\n",
       "\n",
       "    .dataframe thead th {\n",
       "        text-align: right;\n",
       "    }\n",
       "</style>\n",
       "<table border=\"1\" class=\"dataframe\">\n",
       "  <thead>\n",
       "    <tr style=\"text-align: right;\">\n",
       "      <th></th>\n",
       "      <th>relPath</th>\n",
       "      <th>USAGE</th>\n",
       "      <th>DIALECT</th>\n",
       "      <th>SEX</th>\n",
       "      <th>SPEAKER_ID</th>\n",
       "      <th>SENTENCE_ID</th>\n",
       "    </tr>\n",
       "    <tr>\n",
       "      <th>IDX</th>\n",
       "      <th></th>\n",
       "      <th></th>\n",
       "      <th></th>\n",
       "      <th></th>\n",
       "      <th></th>\n",
       "      <th></th>\n",
       "    </tr>\n",
       "  </thead>\n",
       "  <tbody>\n",
       "    <tr>\n",
       "      <th>MPAR0:SI2206</th>\n",
       "      <td>/TRAIN/DR7/MPAR0/SI2206</td>\n",
       "      <td>TRAIN</td>\n",
       "      <td>DR7</td>\n",
       "      <td>M</td>\n",
       "      <td>PAR0</td>\n",
       "      <td>SI2206</td>\n",
       "    </tr>\n",
       "    <tr>\n",
       "      <th>MPAR0:SX316</th>\n",
       "      <td>/TRAIN/DR7/MPAR0/SX316</td>\n",
       "      <td>TRAIN</td>\n",
       "      <td>DR7</td>\n",
       "      <td>M</td>\n",
       "      <td>PAR0</td>\n",
       "      <td>SX316</td>\n",
       "    </tr>\n",
       "  </tbody>\n",
       "</table>\n",
       "</div>"
      ],
      "text/plain": [
       "                              relPath  USAGE DIALECT SEX SPEAKER_ID  \\\n",
       "IDX                                                                   \n",
       "MPAR0:SI2206  /TRAIN/DR7/MPAR0/SI2206  TRAIN  DR7     M   PAR0        \n",
       "MPAR0:SX316   /TRAIN/DR7/MPAR0/SX316   TRAIN  DR7     M   PAR0        \n",
       "\n",
       "             SENTENCE_ID  \n",
       "IDX                       \n",
       "MPAR0:SI2206  SI2206      \n",
       "MPAR0:SX316   SX316       "
      ]
     },
     "execution_count": 23,
     "metadata": {},
     "output_type": "execute_result"
    }
   ],
   "source": [
    "all_files_df.head(2)"
   ]
  },
  {
   "cell_type": "code",
   "execution_count": 24,
   "metadata": {},
   "outputs": [
    {
     "name": "stdout",
     "output_type": "stream",
     "text": [
      "<class 'pandas.core.frame.DataFrame'>\n",
      "Index: 6300 entries, MPAR0:SI2206 to FJEM0:SX184\n",
      "Data columns (total 6 columns):\n",
      "relPath        6300 non-null object\n",
      "USAGE          6300 non-null object\n",
      "DIALECT        6300 non-null object\n",
      "SEX            6300 non-null object\n",
      "SPEAKER_ID     6300 non-null object\n",
      "SENTENCE_ID    6300 non-null object\n",
      "dtypes: object(6)\n",
      "memory usage: 344.5+ KB\n"
     ]
    }
   ],
   "source": [
    "all_files_df.info()"
   ]
  },
  {
   "cell_type": "code",
   "execution_count": 25,
   "metadata": {},
   "outputs": [
    {
     "name": "stdout",
     "output_type": "stream",
     "text": [
      "Rows: 86\n",
      "<class 'pandas.core.frame.DataFrame'>\n",
      "Index: 86 entries, MPAR0:SI2206:0 to MPAR0:SI946:8\n",
      "Data columns (total 6 columns):\n",
      "START    86 non-null int64\n",
      "END      86 non-null int64\n",
      "WRD      86 non-null object\n",
      "SIG      86 non-null object\n",
      "SR       86 non-null int64\n",
      "IDX      86 non-null object\n",
      "dtypes: int64(3), object(3)\n",
      "memory usage: 4.7+ KB\n"
     ]
    }
   ],
   "source": [
    "def createItemsDataFrame(path, files_df, ext):\n",
    "    ret = pd.DataFrame()\n",
    "    for i,row in files_df.iterrows():\n",
    "        tmp_df = extractItems(path, row.name, row['relPath'], ext)\n",
    "        ret = ret.append(tmp_df)\n",
    "        #print(len(ret))\n",
    "#    ret = files_df.apply(lambda row: ret.append(extractWords(path, row.name, row['relPath']), ignore_index=True), axis=1)\n",
    "#    files_df.apply(lambda row: print(row), axis=1)\n",
    "    return ret\n",
    "\n",
    "def test_createItemsDataFrame():\n",
    "    tdf = createItemsDataFrame(path, all_files_df.head(10), 'WRD')\n",
    "    print(f'Rows: {len(tdf)}')\n",
    "    tdf.info()\n",
    "    assert 86==len(tdf)\n",
    "\n",
    "test_createItemsDataFrame()"
   ]
  },
  {
   "cell_type": "code",
   "execution_count": 26,
   "metadata": {},
   "outputs": [
    {
     "name": "stdout",
     "output_type": "stream",
     "text": [
      "CPU times: user 7min 17s, sys: 7.03 s, total: 7min 24s\n",
      "Wall time: 1min 14s\n",
      "<class 'pandas.core.frame.DataFrame'>\n",
      "Index: 54387 entries, MPAR0:SI2206:0 to FJEM0:SX184:6\n",
      "Data columns (total 6 columns):\n",
      "START    54387 non-null int64\n",
      "END      54387 non-null int64\n",
      "WRD      54387 non-null object\n",
      "SIG      54387 non-null object\n",
      "SR       54387 non-null int64\n",
      "IDX      54387 non-null object\n",
      "dtypes: int64(3), object(3)\n",
      "memory usage: 2.9+ MB\n"
     ]
    }
   ],
   "source": [
    "%time all_words_df = createItemsDataFrame(path, all_files_df, 'WRD')\n",
    "all_words_df.info()"
   ]
  },
  {
   "cell_type": "code",
   "execution_count": 30,
   "metadata": {},
   "outputs": [],
   "source": [
    "# Store pre computed result...\n",
    "# WARNING: this is a 11GB file..\n",
    "#all_words_df.to_pickle(str(path/'models/all_words_df.pkl'))"
   ]
  },
  {
   "cell_type": "code",
   "execution_count": 31,
   "metadata": {},
   "outputs": [],
   "source": [
    "#all_words_df = pd.read_pickle(str(path/'models/all_words_df.pkl'))"
   ]
  },
  {
   "cell_type": "code",
   "execution_count": 32,
   "metadata": {},
   "outputs": [
    {
     "name": "stdout",
     "output_type": "stream",
     "text": [
      "Words count: 54387\n"
     ]
    }
   ],
   "source": [
    "print(f'Words count: {len(all_words_df)}')"
   ]
  },
  {
   "cell_type": "code",
   "execution_count": 33,
   "metadata": {},
   "outputs": [
    {
     "data": {
      "text/html": [
       "<div>\n",
       "<style scoped>\n",
       "    .dataframe tbody tr th:only-of-type {\n",
       "        vertical-align: middle;\n",
       "    }\n",
       "\n",
       "    .dataframe tbody tr th {\n",
       "        vertical-align: top;\n",
       "    }\n",
       "\n",
       "    .dataframe thead th {\n",
       "        text-align: right;\n",
       "    }\n",
       "</style>\n",
       "<table border=\"1\" class=\"dataframe\">\n",
       "  <thead>\n",
       "    <tr style=\"text-align: right;\">\n",
       "      <th></th>\n",
       "      <th>START</th>\n",
       "      <th>END</th>\n",
       "      <th>WRD</th>\n",
       "      <th>SIG</th>\n",
       "      <th>SR</th>\n",
       "      <th>IDX</th>\n",
       "    </tr>\n",
       "    <tr>\n",
       "      <th>IDXN</th>\n",
       "      <th></th>\n",
       "      <th></th>\n",
       "      <th></th>\n",
       "      <th></th>\n",
       "      <th></th>\n",
       "      <th></th>\n",
       "    </tr>\n",
       "  </thead>\n",
       "  <tbody>\n",
       "    <tr>\n",
       "      <th>MPAR0:SI2206:0</th>\n",
       "      <td>3212</td>\n",
       "      <td>6050</td>\n",
       "      <td>not</td>\n",
       "      <td>[tensor(0.0002), tensor(0.0002), tensor(0.0002), tensor(0.0004), tensor(0.0004), tensor(0.0004), tensor(0.0005), tensor(0.0004), tensor(0.0003), tensor(0.0003), tensor(0.0002), tensor(-0.0003), tensor(0.0008), tensor(0.0011), tensor(-0.0012), tensor(0.0018), tensor(-0.0004), tensor(0.0007), tensor(0.0002), tensor(3.0518e-05), tensor(9.1553e-05), tensor(0.0009), tensor(-9.1553e-05), tensor(0.0006), tensor(0.), tensor(0.0011), tensor(9.1553e-05), tensor(0.0008), tensor(0.0005), tensor(0.0010), tensor(0.0009), tensor(0.0005), tensor(0.0012), tensor(0.0009), tensor(0.0014), tensor(0.0008), tensor(0.0011), tensor(0.0008), tensor(0.0008), tensor(0.0007), tensor(0.0006), tensor(0.0009), tensor(0.0005), tensor(0.0005), tensor(0.0003), tensor(0.0002), tensor(0.0003), tensor(0.0002), tensor(0.0002), tensor(6.1035e-05), tensor(-0.0002), tensor(-0.0004), tensor(-0.0003), tensor(-0.0004), tensor(-0.0005), tensor(-0.0007), tensor(-0.0010), tensor(-0.0013), tensor(-0.0013), tensor(-0.0013), tensor(-0.0014), tensor(-0.0016), tensor(-0.0019), tensor(-0.0022), tensor(-0.0023), tensor(-0.0025), tensor(-0.0025), tensor(-0.0026), tensor(-0.0028), tensor(-0.0028), tensor(-0.0030), tensor(-0.0029), tensor(-0.0028), tensor(-0.0027), tensor(-0.0026), tensor(-0.0028), tensor(-0.0028), tensor(-0.0028), tensor(-0.0025), tensor(-0.0020), tensor(-0.0017), tensor(-0.0016), tensor(-0.0016), tensor(-0.0017), tensor(-0.0016), tensor(-0.0016), tensor(-0.0011), tensor(-0.0011), tensor(-0.0009), tensor(-0.0011), tensor(-0.0013), tensor(-0.0013), tensor(-0.0015), tensor(-0.0012), tensor(-0.0008), tensor(-0.0005), tensor(0.0002), tensor(0.0006), tensor(0.0016), tensor(0.0021), ...]</td>\n",
       "      <td>16000</td>\n",
       "      <td>MPAR0:SI2206</td>\n",
       "    </tr>\n",
       "    <tr>\n",
       "      <th>MPAR0:SI2206:1</th>\n",
       "      <td>6050</td>\n",
       "      <td>7580</td>\n",
       "      <td>good</td>\n",
       "      <td>[tensor(0.0001), tensor(0.0002), tensor(9.1553e-05), tensor(0.), tensor(0.0002), tensor(0.0005), tensor(0.0005), tensor(0.0013), tensor(0.0027), tensor(0.0022), tensor(0.0006), tensor(0.0015), tensor(0.0046), tensor(0.0160), tensor(0.0185), tensor(0.0075), tensor(-0.0016), tensor(-0.0064), tensor(-0.0105), tensor(-0.0190), tensor(-0.0179), tensor(-0.0099), tensor(-0.0025), tensor(-0.0009), tensor(0.0038), tensor(0.0095), tensor(0.0070), tensor(-0.0009), tensor(-0.0056), tensor(-0.0042), tensor(-0.0037), tensor(-0.0018), tensor(0.0065), tensor(0.0133), tensor(0.0117), tensor(0.0047), tensor(-0.0011), tensor(-0.0062), tensor(-0.0112), tensor(-0.0134), tensor(-0.0097), tensor(-0.0020), tensor(0.0037), tensor(0.0069), tensor(0.0087), tensor(0.0068), tensor(0.0014), tensor(-0.0037), tensor(-0.0065), tensor(-0.0065), tensor(-0.0053), tensor(-0.0013), tensor(0.0038), tensor(0.0072), tensor(0.0067), tensor(0.0034), tensor(-0.0004), tensor(-0.0045), tensor(-0.0065), tensor(-0.0055), tensor(-0.0018), tensor(0.0016), tensor(0.0038), tensor(0.0048), tensor(0.0043), tensor(0.0017), tensor(-0.0018), tensor(-0.0037), tensor(-0.0038), tensor(-0.0029), tensor(-0.0010), tensor(0.0020), tensor(0.0037), tensor(0.0037), tensor(0.0020), tensor(0.0001), tensor(-0.0011), tensor(-0.0026), tensor(-0.0030), tensor(-0.0020), tensor(0.0007), tensor(0.0020), tensor(0.0028), tensor(0.0024), tensor(0.0013), tensor(0.0002), tensor(-0.0024), tensor(-0.0034), tensor(-0.0022), tensor(-0.0012), tensor(0.0008), tensor(0.0008), tensor(0.0027), tensor(0.0031), tensor(0.0009), tensor(-0.0018), tensor(-0.0022), tensor(-0.0020), tensor(-0.0017), tensor(-0.0002), ...]</td>\n",
       "      <td>16000</td>\n",
       "      <td>MPAR0:SI2206</td>\n",
       "    </tr>\n",
       "  </tbody>\n",
       "</table>\n",
       "</div>"
      ],
      "text/plain": [
       "                START   END   WRD  \\\n",
       "IDXN                                \n",
       "MPAR0:SI2206:0  3212   6050  not    \n",
       "MPAR0:SI2206:1  6050   7580  good   \n",
       "\n",
       "                                                                                                                                                                                                                                                                                                                                                                                                                                                                                                                                                                                                                                                                                                                                                                                                                                                                                                                                                                                                                                                                                                                                                                                                                                                                                                                                                                                                                                                                                                                                                                                                                                                                                                                                                    SIG  \\\n",
       "IDXN                                                                                                                                                                                                                                                                                                                                                                                                                                                                                                                                                                                                                                                                                                                                                                                                                                                                                                                                                                                                                                                                                                                                                                                                                                                                                                                                                                                                                                                                                                                                                                                                                                                                                                                                                      \n",
       "MPAR0:SI2206:0  [tensor(0.0002), tensor(0.0002), tensor(0.0002), tensor(0.0004), tensor(0.0004), tensor(0.0004), tensor(0.0005), tensor(0.0004), tensor(0.0003), tensor(0.0003), tensor(0.0002), tensor(-0.0003), tensor(0.0008), tensor(0.0011), tensor(-0.0012), tensor(0.0018), tensor(-0.0004), tensor(0.0007), tensor(0.0002), tensor(3.0518e-05), tensor(9.1553e-05), tensor(0.0009), tensor(-9.1553e-05), tensor(0.0006), tensor(0.), tensor(0.0011), tensor(9.1553e-05), tensor(0.0008), tensor(0.0005), tensor(0.0010), tensor(0.0009), tensor(0.0005), tensor(0.0012), tensor(0.0009), tensor(0.0014), tensor(0.0008), tensor(0.0011), tensor(0.0008), tensor(0.0008), tensor(0.0007), tensor(0.0006), tensor(0.0009), tensor(0.0005), tensor(0.0005), tensor(0.0003), tensor(0.0002), tensor(0.0003), tensor(0.0002), tensor(0.0002), tensor(6.1035e-05), tensor(-0.0002), tensor(-0.0004), tensor(-0.0003), tensor(-0.0004), tensor(-0.0005), tensor(-0.0007), tensor(-0.0010), tensor(-0.0013), tensor(-0.0013), tensor(-0.0013), tensor(-0.0014), tensor(-0.0016), tensor(-0.0019), tensor(-0.0022), tensor(-0.0023), tensor(-0.0025), tensor(-0.0025), tensor(-0.0026), tensor(-0.0028), tensor(-0.0028), tensor(-0.0030), tensor(-0.0029), tensor(-0.0028), tensor(-0.0027), tensor(-0.0026), tensor(-0.0028), tensor(-0.0028), tensor(-0.0028), tensor(-0.0025), tensor(-0.0020), tensor(-0.0017), tensor(-0.0016), tensor(-0.0016), tensor(-0.0017), tensor(-0.0016), tensor(-0.0016), tensor(-0.0011), tensor(-0.0011), tensor(-0.0009), tensor(-0.0011), tensor(-0.0013), tensor(-0.0013), tensor(-0.0015), tensor(-0.0012), tensor(-0.0008), tensor(-0.0005), tensor(0.0002), tensor(0.0006), tensor(0.0016), tensor(0.0021), ...]   \n",
       "MPAR0:SI2206:1  [tensor(0.0001), tensor(0.0002), tensor(9.1553e-05), tensor(0.), tensor(0.0002), tensor(0.0005), tensor(0.0005), tensor(0.0013), tensor(0.0027), tensor(0.0022), tensor(0.0006), tensor(0.0015), tensor(0.0046), tensor(0.0160), tensor(0.0185), tensor(0.0075), tensor(-0.0016), tensor(-0.0064), tensor(-0.0105), tensor(-0.0190), tensor(-0.0179), tensor(-0.0099), tensor(-0.0025), tensor(-0.0009), tensor(0.0038), tensor(0.0095), tensor(0.0070), tensor(-0.0009), tensor(-0.0056), tensor(-0.0042), tensor(-0.0037), tensor(-0.0018), tensor(0.0065), tensor(0.0133), tensor(0.0117), tensor(0.0047), tensor(-0.0011), tensor(-0.0062), tensor(-0.0112), tensor(-0.0134), tensor(-0.0097), tensor(-0.0020), tensor(0.0037), tensor(0.0069), tensor(0.0087), tensor(0.0068), tensor(0.0014), tensor(-0.0037), tensor(-0.0065), tensor(-0.0065), tensor(-0.0053), tensor(-0.0013), tensor(0.0038), tensor(0.0072), tensor(0.0067), tensor(0.0034), tensor(-0.0004), tensor(-0.0045), tensor(-0.0065), tensor(-0.0055), tensor(-0.0018), tensor(0.0016), tensor(0.0038), tensor(0.0048), tensor(0.0043), tensor(0.0017), tensor(-0.0018), tensor(-0.0037), tensor(-0.0038), tensor(-0.0029), tensor(-0.0010), tensor(0.0020), tensor(0.0037), tensor(0.0037), tensor(0.0020), tensor(0.0001), tensor(-0.0011), tensor(-0.0026), tensor(-0.0030), tensor(-0.0020), tensor(0.0007), tensor(0.0020), tensor(0.0028), tensor(0.0024), tensor(0.0013), tensor(0.0002), tensor(-0.0024), tensor(-0.0034), tensor(-0.0022), tensor(-0.0012), tensor(0.0008), tensor(0.0008), tensor(0.0027), tensor(0.0031), tensor(0.0009), tensor(-0.0018), tensor(-0.0022), tensor(-0.0020), tensor(-0.0017), tensor(-0.0002), ...]                      \n",
       "\n",
       "                   SR           IDX  \n",
       "IDXN                                 \n",
       "MPAR0:SI2206:0  16000  MPAR0:SI2206  \n",
       "MPAR0:SI2206:1  16000  MPAR0:SI2206  "
      ]
     },
     "execution_count": 33,
     "metadata": {},
     "output_type": "execute_result"
    }
   ],
   "source": [
    "all_words_df.head(2)"
   ]
  },
  {
   "cell_type": "code",
   "execution_count": 34,
   "metadata": {},
   "outputs": [],
   "source": [
    "#Run  this for phonemes...\n",
    "#%time all_phonemes_df = createItemsDataFrame(path, all_files_df, 'PHN')"
   ]
  },
  {
   "cell_type": "code",
   "execution_count": 35,
   "metadata": {},
   "outputs": [
    {
     "name": "stdout",
     "output_type": "stream",
     "text": [
      "wise\n"
     ]
    },
    {
     "data": {
      "text/html": [
       "\n",
       "                <audio controls=\"controls\" >\n",
       "                    <source src=\"data:audio/wav;base64,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\" type=\"audio/wav\" />\n",
       "                    Your browser does not support the audio element.\n",
       "                </audio>\n",
       "              "
      ],
      "text/plain": [
       "<IPython.lib.display.Audio object>"
      ]
     },
     "metadata": {},
     "output_type": "display_data"
    }
   ],
   "source": [
    "tmp = all_words_df.iloc[7]\n",
    "print(tmp.WRD)\n",
    "display(Audio(tmp.SIG, rate=tmp.SR))"
   ]
  },
  {
   "cell_type": "markdown",
   "metadata": {},
   "source": [
    "## Join data and create \"src\" "
   ]
  },
  {
   "cell_type": "code",
   "execution_count": 36,
   "metadata": {},
   "outputs": [],
   "source": [
    "#Join files with words\n",
    "src = all_words_df.merge(all_files_df,left_on='IDX',right_on='IDX')\n",
    "assert len(src)==len(all_words_df)"
   ]
  },
  {
   "cell_type": "code",
   "execution_count": 37,
   "metadata": {},
   "outputs": [
    {
     "data": {
      "text/plain": [
       "USAGE\n",
       "TEST     14553\n",
       "TRAIN    39834\n",
       "Name: SIG, dtype: int64"
      ]
     },
     "execution_count": 37,
     "metadata": {},
     "output_type": "execute_result"
    }
   ],
   "source": [
    "#Optionally subsample and ensure good distribution among train and \"valid\"\n",
    "#src = src.sample(5000, random_state=1) # Uncomment this to reduce dataset\n",
    "src.groupby(['USAGE'])['SIG'].count()"
   ]
  },
  {
   "cell_type": "code",
   "execution_count": 38,
   "metadata": {},
   "outputs": [
    {
     "data": {
      "text/html": [
       "<div>\n",
       "<style scoped>\n",
       "    .dataframe tbody tr th:only-of-type {\n",
       "        vertical-align: middle;\n",
       "    }\n",
       "\n",
       "    .dataframe tbody tr th {\n",
       "        vertical-align: top;\n",
       "    }\n",
       "\n",
       "    .dataframe thead th {\n",
       "        text-align: right;\n",
       "    }\n",
       "</style>\n",
       "<table border=\"1\" class=\"dataframe\">\n",
       "  <thead>\n",
       "    <tr style=\"text-align: right;\">\n",
       "      <th></th>\n",
       "      <th>WRD</th>\n",
       "      <th>FREQ</th>\n",
       "    </tr>\n",
       "  </thead>\n",
       "  <tbody>\n",
       "    <tr>\n",
       "      <th>0</th>\n",
       "      <td>'em</td>\n",
       "      <td>6</td>\n",
       "    </tr>\n",
       "    <tr>\n",
       "      <th>1</th>\n",
       "      <td>a</td>\n",
       "      <td>1168</td>\n",
       "    </tr>\n",
       "    <tr>\n",
       "      <th>2</th>\n",
       "      <td>abbreviate</td>\n",
       "      <td>7</td>\n",
       "    </tr>\n",
       "    <tr>\n",
       "      <th>3</th>\n",
       "      <td>abdomen</td>\n",
       "      <td>7</td>\n",
       "    </tr>\n",
       "    <tr>\n",
       "      <th>4</th>\n",
       "      <td>abides</td>\n",
       "      <td>1</td>\n",
       "    </tr>\n",
       "  </tbody>\n",
       "</table>\n",
       "</div>"
      ],
      "text/plain": [
       "          WRD  FREQ\n",
       "0  'em         6   \n",
       "1  a           1168\n",
       "2  abbreviate  7   \n",
       "3  abdomen     7   \n",
       "4  abides      1   "
      ]
     },
     "execution_count": 38,
     "metadata": {},
     "output_type": "execute_result"
    }
   ],
   "source": [
    "wrd_freq = src.groupby(['WRD'])['SIG'].count().reset_index(name='FREQ')\n",
    "wrd_freq.head()"
   ]
  },
  {
   "cell_type": "code",
   "execution_count": 39,
   "metadata": {},
   "outputs": [],
   "source": [
    "#Add word frequency measure to src\n",
    "src = src.merge(wrd_freq,left_on='WRD',right_on='WRD')\n",
    "assert len(src)==len(all_words_df) # does not pass if src is reduced"
   ]
  },
  {
   "cell_type": "code",
   "execution_count": 40,
   "metadata": {},
   "outputs": [
    {
     "data": {
      "text/plain": [
       "count    54387.000000\n",
       "mean     400.091584  \n",
       "std      535.387063  \n",
       "min      1.000000    \n",
       "25%      8.000000    \n",
       "50%      89.000000   \n",
       "75%      650.000000  \n",
       "max      2202.000000 \n",
       "Name: FREQ, dtype: float64"
      ]
     },
     "execution_count": 40,
     "metadata": {},
     "output_type": "execute_result"
    }
   ],
   "source": [
    "src.FREQ.describe()"
   ]
  },
  {
   "cell_type": "code",
   "execution_count": 41,
   "metadata": {},
   "outputs": [
    {
     "name": "stdout",
     "output_type": "stream",
     "text": [
      "54387\n"
     ]
    }
   ],
   "source": [
    "# Keep high frequency words\n",
    "#src = src[src.FREQ>=8]\n",
    "print(len(src))"
   ]
  },
  {
   "cell_type": "code",
   "execution_count": 42,
   "metadata": {},
   "outputs": [
    {
     "data": {
      "text/plain": [
       "(tensor([0.0002, 0.0002, 0.0002,  ..., 0.0004, 0.0003, 0.0002]), 16000)"
      ]
     },
     "execution_count": 42,
     "metadata": {},
     "output_type": "execute_result"
    }
   ],
   "source": [
    "#Create merged column...\n",
    "src['SampleAndSr'] = src.apply(lambda row: (row.SIG,row.SR),axis=1)\n",
    "src.iloc[0]['SampleAndSr']"
   ]
  },
  {
   "cell_type": "code",
   "execution_count": 43,
   "metadata": {},
   "outputs": [
    {
     "data": {
      "text/plain": [
       "is_valid\n",
       "False    39834\n",
       "True     14553\n",
       "Name: SIG, dtype: int64"
      ]
     },
     "execution_count": 43,
     "metadata": {},
     "output_type": "execute_result"
    }
   ],
   "source": [
    "#Create validation set column from \"test\" hold out\n",
    "src['is_valid'] = src['USAGE'].apply(lambda x: not (x=='TRAIN'))\n",
    "src.groupby(['is_valid'])['SIG'].count()"
   ]
  },
  {
   "cell_type": "code",
   "execution_count": 44,
   "metadata": {},
   "outputs": [
    {
     "data": {
      "text/plain": [
       "6102"
      ]
     },
     "execution_count": 44,
     "metadata": {},
     "output_type": "execute_result"
    }
   ],
   "source": [
    "#Count unique words\n",
    "len(src.WRD.unique())"
   ]
  },
  {
   "cell_type": "markdown",
   "metadata": {},
   "source": [
    "#### Useful statistics"
   ]
  },
  {
   "cell_type": "code",
   "execution_count": 45,
   "metadata": {},
   "outputs": [
    {
     "name": "stdout",
     "output_type": "stream",
     "text": [
      "Shortest item: 0\n",
      "Longest item: 26160\n"
     ]
    }
   ],
   "source": [
    "src['LENGHT'] = src.SIG.apply(lambda x: x.shape[0])\n",
    "print(f'Shortest item: {src.LENGHT.min()}')\n",
    "print(f'Longest item: {src.LENGHT.max()}')"
   ]
  },
  {
   "cell_type": "code",
   "execution_count": 46,
   "metadata": {},
   "outputs": [
    {
     "data": {
      "text/plain": [
       "<matplotlib.axes._subplots.AxesSubplot at 0x7faccf975d68>"
      ]
     },
     "execution_count": 46,
     "metadata": {},
     "output_type": "execute_result"
    },
    {
     "data": {
      "image/png": "[encoded data removed]",
      "text/plain": [
       "<Figure size 432x288 with 1 Axes>"
      ]
     },
     "metadata": {
      "needs_background": "light"
     },
     "output_type": "display_data"
    }
   ],
   "source": [
    "src['LENGHT'].hist(bins=100)"
   ]
  },
  {
   "cell_type": "markdown",
   "metadata": {},
   "source": [
    "**WARNING** there are zero lenght items that should be filtered..."
   ]
  },
  {
   "cell_type": "code",
   "execution_count": 47,
   "metadata": {},
   "outputs": [
    {
     "name": "stdout",
     "output_type": "stream",
     "text": [
      "Shortest item: 231\n",
      "Longest item: 16000\n",
      "Number of items: 54296\n"
     ]
    }
   ],
   "source": [
    "#Discarding too short and too long sounds\n",
    "min_duration = 50 # in samples\n",
    "max_duration = 16000\n",
    "src = src[src.LENGHT>min_duration]\n",
    "src = src[src.LENGHT<=max_duration]\n",
    "print(f'Shortest item: {src.LENGHT.min()}')\n",
    "print(f'Longest item: {src.LENGHT.max()}')\n",
    "print(f'Number of items: {len(src)}')"
   ]
  },
  {
   "cell_type": "markdown",
   "metadata": {},
   "source": [
    "## Classify words"
   ]
  },
  {
   "cell_type": "markdown",
   "metadata": {},
   "source": [
    "## Fine tune spectrogram"
   ]
  },
  {
   "cell_type": "code",
   "execution_count": 49,
   "metadata": {},
   "outputs": [],
   "source": [
    "samples = src.sample(5,random_state=1)\n",
    "ads = [AudioData(src.iloc[i].SIG,src.iloc[i].SR) for i in range(len(samples))]"
   ]
  },
  {
   "cell_type": "code",
   "execution_count": 56,
   "metadata": {},
   "outputs": [
    {
     "data": {
      "image/jpeg": "[encoded data removed]",
      "image/png": "[encoded data removed]",
      "text/plain": [
       "Image (1, 128, 15)"
      ]
     },
     "metadata": {},
     "output_type": "display_data"
    },
    {
     "data": {
      "image/jpeg": "[encoded data removed]",
      "image/png": "[encoded data removed]",
      "text/plain": [
       "Image (1, 128, 25)"
      ]
     },
     "metadata": {},
     "output_type": "display_data"
    },
    {
     "data": {
      "image/jpeg": "[encoded data removed]",
      "image/png": "[encoded data removed]",
      "text/plain": [
       "Image (1, 128, 12)"
      ]
     },
     "metadata": {},
     "output_type": "display_data"
    },
    {
     "data": {
      "image/jpeg": "[encoded data removed]",
      "image/png": "[encoded data removed]",
      "text/plain": [
       "Image (1, 128, 21)"
      ]
     },
     "metadata": {},
     "output_type": "display_data"
    },
    {
     "data": {
      "image/jpeg": "[encoded data removed]",
      "image/png": "[encoded data removed]",
      "text/plain": [
       "Image (1, 128, 14)"
      ]
     },
     "metadata": {},
     "output_type": "display_data"
    }
   ],
   "source": [
    "for ad in ads:\n",
    "    display(Image(tfm_spectro(ad)))"
   ]
  },
  {
   "cell_type": "markdown",
   "metadata": {},
   "source": [
    "Specrogram should be configured properly: let's define a new function **tfm_spectro_tuned** with the parameters we wants, using partial application"
   ]
  },
  {
   "cell_type": "code",
   "execution_count": 84,
   "metadata": {},
   "outputs": [
    {
     "data": {
      "image/jpeg": "[encoded data removed]",
      "image/png": "[encoded data removed]",
      "text/plain": [
       "Image (1, 128, 25)"
      ]
     },
     "metadata": {},
     "output_type": "display_data"
    },
    {
     "data": {
      "image/jpeg": "[encoded data removed]",
      "image/png": "[encoded data removed]",
      "text/plain": [
       "Image (1, 224, 49)"
      ]
     },
     "metadata": {},
     "output_type": "display_data"
    }
   ],
   "source": [
    "#n_mels = 128 should be ok\n",
    "display(Image(tfm_spectro(ads[1],n_mels=128,to_db_scale=True))) #original\n",
    "tfm_spectro_tuned = partial(tfm_spectro,n_mels=224, ws=200, n_fft=3200, to_db_scale=True)\n",
    "display(Image(tfm_spectro_tuned(ads[1]))) #improved"
   ]
  },
  {
   "cell_type": "code",
   "execution_count": 85,
   "metadata": {},
   "outputs": [
    {
     "data": {
      "image/jpeg": "[encoded data removed]",
      "image/png": "[encoded data removed]",
      "text/plain": [
       "Image (1, 224, 29)"
      ]
     },
     "metadata": {},
     "output_type": "display_data"
    },
    {
     "data": {
      "image/jpeg": "[encoded data removed]",
      "image/png": "[encoded data removed]",
      "text/plain": [
       "Image (1, 224, 49)"
      ]
     },
     "metadata": {},
     "output_type": "display_data"
    },
    {
     "data": {
      "image/jpeg": "[encoded data removed]",
      "image/png": "[encoded data removed]",
      "text/plain": [
       "Image (1, 224, 23)"
      ]
     },
     "metadata": {},
     "output_type": "display_data"
    },
    {
     "data": {
      "image/jpeg": "[encoded data removed]",
      "image/png": "[encoded data removed]",
      "text/plain": [
       "Image (1, 224, 42)"
      ]
     },
     "metadata": {},
     "output_type": "display_data"
    },
    {
     "data": {
      "image/jpeg": "[encoded data removed]",
      "image/png": "[encoded data removed]",
      "text/plain": [
       "Image (1, 224, 28)"
      ]
     },
     "metadata": {},
     "output_type": "display_data"
    }
   ],
   "source": [
    "#Try with more examples...\n",
    "for ad in ads:\n",
    "    display(Image(tfm_spectro_tuned(ad)))"
   ]
  },
  {
   "cell_type": "markdown",
   "metadata": {},
   "source": [
    "### DataBlock"
   ]
  },
  {
   "cell_type": "code",
   "execution_count": 60,
   "metadata": {},
   "outputs": [
    {
     "data": {
      "text/plain": [
       "(6102,\n",
       " [\"'em\",\n",
       "  'a',\n",
       "  'abbreviate',\n",
       "  'abdomen',\n",
       "  'abides',\n",
       "  'ability',\n",
       "  'able',\n",
       "  'ably',\n",
       "  'abolish',\n",
       "  'aborigine'])"
      ]
     },
     "execution_count": 60,
     "metadata": {},
     "output_type": "execute_result"
    }
   ],
   "source": [
    "#Create classes for all data!\n",
    "classes = list(sorted(all_words_df.WRD.unique()))\n",
    "len(classes), classes[:10]"
   ]
  },
  {
   "cell_type": "code",
   "execution_count": 61,
   "metadata": {},
   "outputs": [],
   "source": [
    "ils = AudioList.from_df(src, path, cols=['SampleAndSr'])"
   ]
  },
  {
   "cell_type": "code",
   "execution_count": 86,
   "metadata": {},
   "outputs": [],
   "source": [
    "#Data Augmentation\n",
    "tfms = get_audio_transforms(spectro=True,\n",
    "                            mx_to_pad=max_duration, #1 sec window\n",
    "                            white_noise=True,\n",
    "                            modulate_volume=True,\n",
    "                            random_cutout=False,\n",
    "                            pad_with_silence=False,\n",
    "                            pitch_warp=False,\n",
    "                            down_and_up=False)"
   ]
  },
  {
   "cell_type": "code",
   "execution_count": 87,
   "metadata": {},
   "outputs": [
    {
     "data": {
      "text/plain": [
       "([functools.partial(<function tfm_add_white_noise at 0x7facee6c5d90>, noise_scl=0.005),\n",
       "  functools.partial(<function tfm_modulate_volume at 0x7facee6c5e18>, lower_gain=0.1, upper_gain=1.2),\n",
       "  functools.partial(<function tfm_pad_to_max at 0x7facee6d31e0>, mx=16000),\n",
       "  functools.partial(<function tfm_spectro at 0x7faccdb71598>, n_mels=224, ws=200, n_fft=3200, to_db_scale=True)],\n",
       " [functools.partial(<function tfm_pad_to_max at 0x7facee6d31e0>, mx=16000),\n",
       "  functools.partial(<function tfm_spectro at 0x7faccdb71598>, n_mels=224, ws=200, n_fft=3200, to_db_scale=True)])"
      ]
     },
     "execution_count": 87,
     "metadata": {},
     "output_type": "execute_result"
    }
   ],
   "source": [
    "#Replace the spectrogram transform with tfm_spectro_stft\n",
    "tfms[0][-1]=tfm_spectro_tuned\n",
    "tfms[1][-1]=tfm_spectro_tuned\n",
    "tfms"
   ]
  },
  {
   "cell_type": "code",
   "execution_count": 88,
   "metadata": {},
   "outputs": [],
   "source": [
    "data = (ils\n",
    "        .split_from_df('is_valid')\n",
    "        .label_from_df('WRD', classes=classes)\n",
    "        .transform(tfms)\n",
    "        .databunch(bs=64)) # NOTE: "
   ]
  },
  {
   "cell_type": "code",
   "execution_count": 89,
   "metadata": {},
   "outputs": [
    {
     "data": {
      "text/html": [
       "REPRESENTATION<br />\n",
       "                <audio controls=\"controls\" >\n",
       "                    <source src=\"data:audio/wav;base64,UklGRjwoAABXQVZFZm10IBAAAAABAAEAgD4AAAB9AAACABAAZGF0YRgoAACa/Rz/7P5P/q37Pvja9HTyOPJE8u3ySvR39bn3nvh3+bn3y/Xq8+3y0vNK9CP1m/Vf9Sn3kvik+lj7dPqw+iv6iPvkACMIZxGjFTETzRPEEqYY7hjWFBkPUAl9CuYPcBJUF7gSmwyVBi0B/ASZAdP+Fvks9gH8vQHVBZUGnACX/gr5hvjL+YP5Ivnz9L/1tvjp+6b9jPqY9m701/WG+KT6Rv0T/k/+HP9FAYoCdQHT/s785vz8AOQEvwhcCUQJdwj/B24HTQbnAxECqABCAlMEQQaGB8kFLwRyAqUBkAAc/4v+E/6X/tz/tACQAIv+tvyk+gr55vih98j2p/XL9Qj2a/U79Sb0TfMp88bzL/Ug9nT2OPYU9iz2y/U+9E3zRPKt8zj2y/ny/Df+mv0T/lQAYgeFD2cV3BKmEOMQxBaoG2MayhRHDAgJkguqD50TnRPaCwIHkABTBC8EBQIx/Cz20fcH/gIDGgf2AjwATPvO+OD6cPut+9T2evRo9u/5pv0u/Sv6ZfcE91L5HPtq/cv9Xv0Z/Gr9GADwADT/W/6a/ZAAwwNuB3QJ1whrCNIG1QUdBhQFhwM+AwIDdAW9BfYGfQYXBPYC5AAkAND/3/64/8T/eAClAZAAoP9G/QH8pPqD+YP5evit99T2yPbL9Vb00vOM8tXyYvRf9QT3cffd9x33aPZc9tr00vPt8nTy3vOz9Qr5xfvm/LL98vzy/MwAIwhkEvEXshQNEzcRwRerGhIZGRM+C6cIegtADkYUoBL+C8wEE/41AmYC7QHy/A34H/p//pYCvQURAvT/7/kN+Cv6tvxe/fL4v/Ug9iX4lfso+1v6kvgi+bD6Dfwf/pf+2vxb+u/5YfyX/ov+NP8AAMYCRwRNBqoHawjzB/YG1QUpBq4G+QXVBaUFXAUsBV8EkARHBHsDMgM5AZAADAD0/5AASADYAMAA3P98/7v+mv2V+5v5GfiA9gj2p/Vf9bb03vP28yb0O/Xj9Qj2LPbU9mX3Nffg9qT21/UX9T70GvRK9J70UPZW+Iz6tvyO/Wr9y/1mAhYMTBY/GgMWZBITEZ0XrxlOGUwS5gvLCHEKZA7xE9cQ3Qq9Afv9+QE+A8MDQ/6b+bz6zvzYAN4CRQGU/5v5X/l8+x/+Rv0x+Ib0qvRo9jf6sPqh+/j6ufut+5H87/1e/TT7a/mb+aH7Ov34/tD/PAAmA3sDpQUFBi8I4whHCPMHVgdxBnEGaAVNBgUGdAUgBRcEtAQXBHsDKQKoADwAxP9sAFEBUQFRAdgAqACs/0P+2vxD+ob4QfdQ9hT2R/Uj9Ur0VvTC9Ef1OPbI9sj2dPak9ln3ifdN9+D2v/X79Xf17/U79S/1VvSP9Z74Afya/Sv+Ov2X/i8EVQ8nGgAbixXXEAoQABdOGYoZ1BHdCvMHvAkoDrUTFhDgCVQA+P6iAlMEIwRb/hb5FvlM+3D//ADYAAT/B/p3+W38Z/4Z/DX3evSG9ID2E/rU+t37ufuF/N378vwT/hb9dPqD+b/5KPtM+xb93/5UAHsDIAXhBVkG6gZrCF8IFAnwCKEGaAVQBQUGAgeuBnEGOwR7A/8DnwMmAwUCzABY/zT//AAdAikCmQGEAMT/f/7v/QH8UvlN9+/1R/U79Zv1L/U+9J70d/Xv9ez2ofeh98j2EPdx9+z2NfdZ9+z2XPbL9XT2//Qj9SP1RPa2+DT7kfyy/SL9rP8pAp4LPBfxGzwX+BEND+4UrBYqGfETXA2ACdcIwgvjEJoQRwyTA0z/EQLDA2sE6P/s+p74a/mF/Bz/DACQAML8jPoo+yv+2vwu+Xf1j/VQ9rb4m/kQ+5X7tvxV/Nr8c/4H/un7Ovmn+U/6Z/pP+gr9iP8OA18EcQZxBokGxgbCBywJXAnjCK4GIAVoBeEFxgauBiAFFwRvAyMEzwMaA0ICnACI/wAAjQHGAh0CUQFsABgAHP/L/Xz7Ovng9o/1X/VT9Y/15/Ta9Dv1OPak9jX3ZfdZ9wT3rfcZ+MX3+PYQ90H3pPaA9sv1zvSe9DL0IPZf+bn7MfxV/Nr8NP+xAcgJjhTxGzkY0BJwDmQSTxX9F3MVwg9KC1wJTQrdDuYPBw1BBtgAsQH2AgsEUQFJ/PL4Uvkc+xP++P4MAMv97PpD+jr9Xv1k+033LPaY9tH3qviD+Sj78vwW/eb8Z/5b/qn8p/n7+R/6gPqD+RD7/vxdAasD4QXGBnEG9gZKB9cIaAmbCPMHlQbhBR0GlQa6BqUFeATbA5MDVwOiAtICWgJdAWAAbAA5AYEBEQIpAtUBCAF//ub84PpS+TX3d/W29Br0MvTz9IP1yPaY9lz2dPbU9tH3ifcl+DH4ZfdZ93330fd994D21/VW9K3ztvR09nf5WPtJ/P788vxD/o0BcQoDFuEcLRgNE6QN7BEuFFQXuxWzEN0K4whECfUOMQ8rDXQFUQFdAQIDMgOoAJ38g/lr+fX7E/6I/1j/Xv00+0/6pv12/Sj7PviA9k33ifd6+Kf5HPv+/F798vzT/h/+tvyb+XT67PqM+hb5T/pM+3/+gQF0BXEG8we6BlYH3ga/CPwImwg7CI8I9gYyB0EGfQaoBGsEXwSfA6ICQgJOAskBXQEhARQBCAHkANUBNQL5AfwAN/7m/Bz7OvkQ94P1tvTS85Xzj/V09oD2gPbg9sj21PbF9z740ffR9wH4lfeV94n3Kfdr9f/00vNl803zFPZN883ll+c/7ED7pA0kGxcnFit/LKgfoBIND1gSKhmlHAAXTw0pAhb9EP/nBzEPxQ4sBWf6hvTO9Dr5+PoZ/G38+Ppw+0/+ogIpBskF2ATqAkUBYADp+xP6y/nI+lv68vjF96H31PZx9+D2ffcj9U3ztPEm9DX3W/pn+mH8Fv1CAlYHwg/KFH8V7hRtE5QSARNnESsR7wwsCckFaQGj/uP5ufe59xn4fPsK/cf+bAAhAQsErgYICQsILAV7A2YC5ADs/lX8JfhB82bvz+w264rrhO1F7jLw/PE18//0mPaJ9933lffF98j2I/VW9FDy3u9p7iTtb+wt6rvnn+hs7W74CAU9DzoUTBI6DAcN5RuiPIFaPmTfT0wtChCoAO/9vPqJ82HlWdhr1qDgTe/g+hP64PYd767vAvQo+5wAIAkuFGsjQSkrLG4mFx/cEiYHtvxK9EXqoOTK4tbmJOlm56biiOA94TfjCeYJ6uHucfcjBHwSFx/5JEomxiEtHLgWKBKMDd0KIgwEEvoUTBIUCQgBAfjY8Sfs2en358fnk+xN96UBsAkKDPgN+wzXDHAOuxGdE0YUFhSFE1gOGgcE/7n3YvA56i3mTORz4wPkguZg6bHqHuvP7Orv9vNi+GH87P7s/h/+Uv2t+zf6Pvgg9ob0WfOA8lPxde4P7GPoTOSX4z/oEfP0/3oLDRNPFewR+BECJk9Pu3Izd5xZ5TJeFNH7IO554aTXHsxwxT/N0dwV6n3zufMB+DH4TPtM/+0Fwg/2HYMrEjjNNmcwUyPWFDIDBfNh5UPbTdRf1gTc2eEi4uXhzeHW4lHm/+xu9Dr9AgdqFK4hEyxYMb4vmCh+HVIQ/wMr+i/1rfPU9sv9QgJ0BRoDlP+w+rnzwPFy7xr0Fv3wBOkOdhSmGFQX/g8HDTgFnACm/ej/IAULCAELAQvbB/AA4/V+773qyeqE6Wnq1e7M8Tv1aPZZ88Pwve5r8Q70C/VK+Pj6dv1D/ub8Dfyb+fj27/U181/x7e4U7rTt4urT5yvjrOCL42zt0ftcCYIUwBvMG9kX7RxvPShrqn8JbdtB8yLvDE3zONd9vdu2trrWw9LQBNzi6kP6eASMDZgJIwjpCkgX4ST4LKYzFTcZMt0prBbVAeLqX9r8zv3G2ca9zzvaZOR76MbrUe7n9J384QFlBuwNJBf2IZIq6zDKLwcoYBsyC0D7Ue7i5kzkvuYa8On3xP/qBvUKZQrYBEICYACX/r0B4QXLDDoUQhmKGa8RCAmQAML4kvT58lD2ZPt4AM8D/wOEBJYCZ/7y+G70zPEX8fbzOPaw9rD2CPaS9LTxe/D272bvU/GV8//0Hffm+JH82vzp+8v5j/Vl8xf10vPe7+7qiush6gnmQOSm4ufsmv3gCdQRoBYGHT8aqRd5MtdhjH2RcNFI5i7fFaH3KdSBtLeuq7b4vNbDRNPb8LoCrQrWFJcVghSCFKYYDx65JVgxXjOzK/YlmhiuAvrqO9qQyvW9s7+QyjvWteFj7Ib04PrDA8sIvAkHDeAR1hRpGD4i/iqVKY8j0xlWC9T6MO2L48XcB99R6lnzjv16C8cVPxbUEaoP1wgIAcT/rP+xAVAJrxGdEwEPDQufA7/5XPYL9a3zUPYl/C0BMgPqBl8I2wOs/xD7m/Xk8Zjy9vOV88L0+PYU9t7zRPJ78Gnuse7/8DjyqvRi+DH8f/7T/tf9fPuS+DL0ru/k7fPsh+xF6mbnr+NA5MbrMvQ9/GIHlBLrGR4ZAxYwH6dKqHj/f85g/0GyLxwOcOQBvjqoo6nYr2m0K8Dp3O/9NQpYFsYhgSCEGyQbaSBNISAkAS5tLuwoSx6nDIP5r+cR1NS8wLNev+vMrtSL3/zx/ABQCVIQjhQAF+gWtROvEaAWaSDnIqseSBvxE/wEtvS06THhed2m4hLrCPZrBPUSBhlmGYIYExFlBvwAzvyA+pH85ARuCxMNswwRCggFyQEZ/Oz2j/WJ9+/50fs8AGsEeAQmA/T/cPvF9zv1ofPA8YPxvfKt81b0DvTt8rTxF/FH8ajxofMg9tH3p/mM+vj6EPtM+zH8B/q89kHzge4/6NPjvN/L3k/jLO4c+1AFuBJgG5wbYxrFJcdPAne3e3FfWUCRLqEOf+PIvIKoaqgiqCqtFr8E3CL5ZQqrHuYqLChoJMAj0SXGIbEgUyfLJxoi5RPJBZj65elg0pu7XLhwwZfIftBD39LzGgPUDV0YVB/qIU4dGxboEk8VmhiUFnYUrBKGC/T/R/Uw7ffjQ9+O5nXuiffDAx8RYxqxHH4d7hQFCowF1/2h9274hAAFBn0GUAkFBh0C6gJA/7/5Svjd+5H8JfwdAs8D9gKWAvwA6ft996H3tvSD8VzyUPKD8ZDxsfLn8EHva/F08rHyC/V6+PX7kfwi/an8cPsx+ML0ZfM48urvtO1I6XnlfOQG56vsRPbDA9cM4BFGFJET9h1oRyF1cX7RY1lIGDY/FpbrfMGspsWigqRqqIC4Ptlb+p4LSB8HMI4v1ChiJnElFx/VHC8jjyMqHUkTUwh5/Hvsz9UxvoO3p7/xxgDOht1u9PAEBxEnHp4mdyexIGEXahBhD68Rqg+/DAoMjwhUAH33t/Df59TfkeHb7Ln7AgcGFQsfjyPGIRsawg9CAi755PFa72j2vv2uAtUFvwh9CjUGLwQtAZ38T/of+v78o/5gAB0CtAC4/1L9sPrs9ib0PvR08rHy0vMC9ETyqPG08RHv7e7/8O3yX/W/+Vv+Ov0Z/D38j/n49nT2IPbe873uReqy4i7iuOio8QT7zATLDKQN8guyFH80SmQ7fOhvr1O6QDorOQFZ1H6x0aLOn7afu63oyXLrRAVRGFgtozQ9Mlgt1ydBIVEcJx5UH3IZiBK8CbEBZfOn3n/I1Lxuvi7DGMqh2FfsNP9cDUIdvChzLEcnRRysEowN/gv4CUEGpQXnA4QAUv3F+yX4IPL57sbvQfPy+JAA2weJDiIUixXxE8UOXwhOAtP+KP9A/yQAJgOMBREG2ARTBNUB2vwK+Tj2R/VQ9mL4E/ph/Fj/XQHtAaUBr/5n+rz2xvOD8dLvcu+x7vDtwO1B72jyYvQU9nr4BPua/cv9HPs196f1YvRa7+7q6OiL55nqw/BS+TwA3gZ9CikGNQbcFiM+r2qHd2hmOk4LPr0kL/VjyeupyJ0pmmWeCLR31m74RhCTIv02BTylN8UtdCQ5HC0YWhkwF8sQOgyMBdf98+xu2YLHj7+8wH/ERc+d4b/13gZnFSYmUi8lLswjDBfsDUoHhwO0ADT/bACs/2AAsQEhAW38v/Ua9OrzLPZw+5kBkgf1CvsQcxUiFLwNjAWBAR/+Q/7E/yQAfgJHBKUFawTbA34ChfzO+KT2O/W/9TX3a/n7+SL9CAFFAZAAN/5A+yn3DvT58rrv5O0/7JbrS+yx7sbzcfeA+qH7WPv+/OD6QfcR88Dx//De68brHe9o8hD3iPtOAt4CT/6F/JEP0jz7aW9372kzWJJFQSn4+uvMA6pfmD+TkJhmsYzXxfe/EOEkBjicPqs5si8LIwMaURhFGIgWuxF9Dj4Hgv147S/ax8ievmW9McLVz5TkAfiMCVoZZSlAMQEudyNbFdQJrgK7/gr9wvxn/tD/SgMpBvAE3P93+df1ZfM79TT7qACcBNsHEA4lE7sRTw0FBi0BB/4Q/5YCYwNfBCAFWQYLCPkFIQGn+W70SvCx7pzx5/St9xD7oP8yA5MDJgPE/2T7ffdW9LHyGvBs7SfsZusL7fnuOPIX9Vz2iffj+fX76fvy+Ib0SvBv7CnvevRW+K37rP8yA3UBbfwhAf8el08wcAdq+lbaScE24BHZ4cW9f6URmneYVac8yjXvTQYSGbwspTurOdAxsydvHoUXPBemGK8V+xARCgT/EfO44O3PqcK2vhnCactn34/1PgdYFmsjxS0cLTgk5RfRCu0Bkfyh++b8T/5RAREGYgdoBU4C7/1f+fbzGvRZ91v+zAQaB6oLSQ8fDSAJRAUyA7L9y/2ZAfAEEQpoDZ4L9gYvBCQAAfix8uTtcusk7eHyAfih+3gANQLAAMT/4/1k+9H3v/W58wjy+fLh8pPw1e517pbv2PFW9LP1zvTs9u/5Yvhr9b/1E/rR+wT7dv3kABgA4Pqz9TL0IgwdQLVsHm69VhlJ1TuNHIHui8Txqwqg7ZkfpTDKPvTtBV4QTSVwNRUzuSkvI2AbKxVMFugakx6QGwcRTgIg9srm59GdwlW+E8BbyMjby/X8CDMWriE1KTUpciEPFmgJeADC/Kn8kACbCPUOSgtxBj4HXAVP+ibwk+ze62/wZ/oyA8gJHA71DkcMMguzCIEB+P7E/wUCXAUpCssM4wiQBFQA3ftK+N7zSvBp7hHvRPKD9bb4Q/qA+nf5v/kl/ML8NPuP+dr4lfek9ln3CPYp87fw0u8R7z7wF/EU7l3uffNf+b79IQGuBmsIRAnhBYj/FvnS88Pw7AkvRsRr72HRRFw/OjP1Cojgs78/sqakZZ4Cto7iHQYFCgQSPSoWL+0kQh0CHvEXbQ+RE4od9iW3HvgNJABl883htcpew+/DKMUJzxvko/6hDnIZKSF6IskgtRfdDokGOQFgAIAFDRPEFp0TGQ/4CRQBKfOT7P3l3+N+52LwT/7bBwQOlQ6ADS4MtgftBc8DcgJjAykGQQpWC60K1QXs/rb4+fKf8LHuQe8F7wLwufP79Rn4zvja+J74Vvh0+q37dv2X/qP++/2I+1L5C/XA8Rrw4e6672bvUe6B7vj2fgLGBucH3gahBkEGxgYCB1AFKQZHCLsRASoaPb07QC3VILgSJfy46KrZXc+Qyr7L4NeE7SkCNQoQDjMW4hivFY4UfBZ2FE8RxBKmFD8WVRN0CV79wPHT557dYtl32hndW+PM7Yz6tARfDNcQUhCFD5gN/gu8DRIVRRj6FDoUHhX7EDUGXv2M9hHvqOnu5vHpnPFZ97z6+P7VBY8IwgdTCOMIpAnICZgJgAkgCfYG+QGC/bD6ofeJ82Lwxu978MDxgPIR84b0j/UQ9zr59fup/D38hfxw+0z7vPqY+sv5kvjs9n3z9vN981/xEfNn+rQAVACj/gf+BP/8AE/+d/ny+AsITyz+SVhQLEMDOWEuwRMx+HPjCNdbyOC8XsOV2MbvVvhY+w4DngdoCaoLKxGREzMWxBqHHqomtiqhJaYY4wi8+vbr1uIr24/WaNc32y7i0uvd9+z+nABaAucDugZxCkwS5RsRIWYhTSGKIQ8erxWMCbb8RPIM6anlx+Me567rYO0y8LP1BPtM/34CzAQCB7YL0Q5tD9oPuQ41CuQEIQG2/KH3JvSH8Dnu/O3J7kHv//CG9Lz2a/md/KP+oP9sAJwAW/5e/YL9tACZBXgEKP8r+jr5pPY79ZX3kvgN+Fb4dPpD/pMDdwjbB7YHpAmhCvILBw28DeMMbgvICfAI1AmPCAsEEP+p/E/6JfjO+Eb5d/kH+jT7/vzE/0oD5wPPA6gEgAX5BQIHXwjnB94GEQaQBKsDGgPhAVj/tvwQ+4/5/vgW+VL5s/lw++P9nABEBSMIOwieBwsIPgdlBm4HyQXPAxoDjQFY/0P+i/6k+hn4ifeA9pX3E/qd/C79+P48AIj/VAAIAagAZP8E/wr9WPv1+9H7BPub+SL5tvj++Mj6rfup/Ar9Ov2a/X/+cP+I/0D/K/6a/b79r/5Y/xD/BP+L/nb98vwf/mAAOQHAABgAYABRAR0CWgLGAtIC0gJpASQAGABHBDIL7A2nDNoLFgywCSkGOwR+AuQAKP+m/Tr9xP/SAkoD0gL5AXUB/ACcANgA8ACxAQgB0P/0/+QARQH8AMAAlP/f/tP+3/5M/5T/xP8o/7v+BP8E/3D/xP98/zT/cP+g/5T/9P9IAJAAwAAhAWkBaQGxAZkBRQE5AeQAwAC0APwACAEIAVEBRQEtAXUBaQE5AfwAzACoANgA8ADAAKgAtACcAHgAeACoAGwAbABUACQADAAYADwA3P/E/5T/iP9A/5T/fP9Y/yj/HP/4/vj+EP8Q/wT/BP8E/xD/EP80/0z/NP9M/xD/BP8E/9/+3/74/gT/7P74/gT/EP8E/xz/HP8c/1j/oP/E//T/GACEAJAAtACoAOQAzADkAOQA2AD8AOQAzADkAPAA/ADMANgA5ADMANgA2ADMAGkBjQG9AbEBRQEhAeQAhACcAFQAJADQ/3D/rP98/6z/0P+U/9D/0P+4/6D/lP+U/5T/cP9w/5T/rP/E/6z/0P/Q/8T/uP+g/4j/fP9k/4j/oP+g/7j/3P/o/xgAbACcAJAAqADMAJwAkACQAHgAPAAkAAwA6P8AANz/3P/o/wAA9P9IADAAPAAwADAAJAAMAOj/3P/Q/9D/0P/Q/8T/rP/E/8T/oP+g/3D/iP98/3z/oP+4/9D/JAAwADwAMAA8ACQAAADc/wwAAADQ/9z/uP/Q/9D/3P/E/9z/0P/o/wAA6P8AABgAMAD0/yQADAAAAPT/DAD0/wwA6P/0/9z/0P/c/9D/0P/Q/9D/0P/E/9z/AAD0/wAAPAAkABgAMAAkACQA9P8AAAwA3P/Q/9z/0P/Q/9D/3P/c/9D/3P/Q/9z/6P/Q/+j/3P/c/9z/xP/c/9D/0P/Q/9D/0P/Q/9D/0P/Q/9D/0P/Q/9z/AADQ/9z/9P8AANz/AADo/+j/6P/Q/9D/6P/c/+j/AADo/9D/3P/Q/9D/9P/c//T/3P8MAOj/6P/0/wAA3P/o//T/0P/c/9D/6P/c/+j/0P/c/9D/0P/c/9z/3P/c/9D/3P/Q/9z/0P/o/+j/0P/c//T/6P/Q/+j/3P/0/+j/3P/o/+j/3P/c/9D/9P/c/9z/6P8AANz/9P8AAOj/AADc//T/6P/c/9z/9P8AANz/3P/Q/+j/3P/Q/9z/3P/Q/9z/3P8MAOj/AAD0/9z/9P/0/9D/6P8AANz/3P/Q//T/9P/Q/+j/3P/c/+j/3P/Q/9z/3P/o/9D/6P/c/9z/3P/o/+j/6P8MANz/6P8AAOj/6P/c/+j/6P/o/wAA3P/Q/9z/6P/c/wAA9P8AAOj/9P/0/9D/9P/c/+j/3P/Q/9z/3P/o/wAA3P/c/9D/9P/o/9z/9P/0/9z/9P/Q//T/DAAAAOj/6P/o/+j/6P/0/+j/xP/c/9z/0P/c/wAAAAD0/wAA6P/0/wwA6P/c//T/AAAMAOj/6P/o//T/AADc/wwA9P8AAPT/0P/o//T/AAD0/+j/AADc/9D/xP/o/+j/0P/c/9D/6P/o/wAA9P/Q//T/0P8AAPT/AADo/wAA6P/0/+j/3P/0/9D/3P/c/+j/AAAMAAAA9P/o/wAAAADc/+j/9P/Q/+j/0P/c//T/GAD0/9D/3P8AAOj/6P/0/9z/AADc//T/0P/c/9D/3P/o/wAA9P8AAPT/9P/c/xgA6P/o//T/9P8AANz/3P8AAAAA9P/o//T/3P8AAPT/AAD0//T/DADo/9z/9P/0/xgADADo/wAA6P/c//T/9P/0/+j/9P/0/wAA3P/0//T/3P8MAAAAGADc/wwAAAAMAPT/AAD0/wwAAAD0//T/6P8MAAwAGAAAAPT/AAD0/wwA9P/0/wAA6P/o/wwAJAAYACQA6P8wABgAGAAYAPT/DAAAABgAAAAMABgAAAAAABgAJAAMAAAAAAAAAAAAGAAAAOj/9P/0/wAADAD0/yQADAAMAAwADAD0/wAAAAAAAAAADADo/wAA9P/0/9z/AAAMAAwAAADc/wwAAADc/+j/AAD0/wAAJAAYAAwADAD0/wwA9P8AAPT/DAD0/wAAAAD0/wwAAAAAAAAA9P/0/wAA6P/o/xgAAAAwAAAADAAAACQAJAAkAAAAAAAAAAAAAAAAAPT/AAAMAAwAGAAAAAwAGAD0/yQADAAAAAAAJAAYAAAADAAwABgAGAAMAAAADAAYAAwADAAMAAAAAAAAAAwADAAAAAwAGAAYAAAADAAMABgAGAAkACQADAAwACQAGAAYACQADAAAABgAGAAMAOj/DAAkAAwA6P/0/wwAAAAAAOj/9P/0/wAA9P8AAAwAAAAMAPT/AAAYAAAADADo//T/DAAMAPT/6P/o/xgA9P8AAAAA9P/Q//T/9P8MAAwAAAD0/xgAGAD0//T/0P8AAPT/6P/0/wwAAAD0/wwAAAAAAAAAAAAwAAwAGAD0/wwAGADQ/yQAGAAYAAwAGAD0/wwA6P/o/wwADAAAAAAA6P8wABgADAD0/yQADAAAAAwAGAAkAAAAAAAMABgA9P/0/wwADAAAAPT/MAAAABgA6P8MAPT/AAAMAAAA9P8MABgADADc//T/AAAAAPT/AAAYAAwADAAMAPT/JAAMABgADAAMAPT/DAAAAAAAAAAAAPT/AAD0/wwAAAAAAPT/AAAMAAAAAAAkAAAADADo/wAADAAYAPT/DAAMAAAADAAMAAwADAD0/yQADAAYAPT/6P/o/wAAAAD0//T/9P8AAOj/9P8AANz/DAAAAAwAAAAAAAwA9P8AAAAA9P/0/wAAAAAMAAwAAAAMAAwAMAAAAPT/DAAAABgAAAAAAAAAAAAAABgADAAMAAAADAAMAAAA9P8kAAAAGAAYAAAAAAAAAAwAMAD0//T/DAAkABgAAAAAAAwAAAAMABgADAAMAAAAAAAAAPT/DAAMAPT/GAAYABgAGAAAACQAGAAkADwAJAAAACQAGAAAAAAADAAkADAAGAAkABgADAAYACQAGAAMADAAGAAAAAAADAAAACQADAAMAAwADAD0/xgADAAAAPT/AAAAACQAAAAkAAwA9P8MAAwAAADc/wwADAAAAPT/3P8kABgADAAMABgAJAD0/yQAGAAMAAwAPAAkAAwAMAAMAAAADAAMAAwA9P8wABgAJAAAABgADAAYAPT/GAAYACQADAAMAAAAGAAYAAwADAAYAAwAGAAwAAwADAAkADwADAAwABgAJAAYADwAMAAMACQADAAMACQAJAAkAAwAGAAYACQAGAAMADAAAAAYADAAMAAkADwAGAAMABgADAAAABgAJAAMABgADAAwABgAJAAMACQAGAD0/zAAAAAAABgAGAA8ABgAGAAkAAwAPAAAABgAMAAYACQAJAAYAAwADAAkABgAJAAAABgAJAAMACQADAAkAAAAGAAwAAAAMAAMADwAGAAYAAwA9P8MAPT/GAAYACQAJAAMADAA6P8kACQAMAAMACQADAAAAAwADAAMAAAAAAAMABgAGAD0/wwAJAAMABgAJAAYABgAPAAYAPT/JAAwAAwA9P88ACQAPAAMAAwADAAwAAwAGAAwADwA3P8MAOj/GAAMAAwAGAAAABgADAD0/xgAAAAAAAAAAAAMADAAAAAYAAwAJAD0/xgAAAAMAPT/DAD0/wwAJAAAADAADAAkADwAJAA8ABgAJAAwAAAADAAkACQAGAAkABgAJAAAAAAAAAD0/xgAAAAAAAAAAAD0/wwADAAYAAwAGAAAAPT/9P8AAAAAJAAAAAwA9P/o/wAA9P8AAOj/0P/o/+j/6P/c//T/DADc//T/DAAMABgAAAD0/9z/DAD0/wAADAD0/yQAGAAAABgAAAAAAAwAGAAMAAAA9P8MAAAADAAMAPT/DAAAAAAA9P8MAPT/DAAAAAAAAAD0/wAAAAAMAAAA6P8YABgADADo/+j/JAD0/wAADAAMAAAADAAAAAwA6P8YABgA9P/c/wwADAAMAAAAAAAAABgA6P8MAAAAJAAMADAADAAAABgA9P8MAAwAJAAMACQAAAAYAAAAAAAAAAAAJAAAAAwA9P8MAPT/6P8AAAwAAAAMAPT/AAAMAAwAAAAYAAwA9P8AAAwA9P/c//T/AADo/9D/3P8AAAwA9P/0/wAAAAAMAOj/3P/0//T/9P/o/wwA9P8AAPT/DAAAAAAA9P/o/+j/3P8AAPT/6P/0/wAAAAAYAPT/AAD0//T/9P8AAAAA3P/o/wAA9P/Q/+j/9P8AAAwA9P8MAAAA6P/c//T/AADc/9z/3P/o/wAA3P/Q/wAAAAAAAAAAAADo/wAA3P/o/wAA3P8AAPT/6P/c/wwA6P/c/wAA6P/c/+j/6P/c//T/9P8MAPT/3P/c/wAA3P/0//T/AAAAAPT/GAD0/wAADAAAAAwADAD0/wAA9P8AAND/9P/o/wAA6P/o/wAA0P/Q/9z/3P8AANz/6P/0/+j/6P/o//T/6P8AAAAAAADo/wAA3P8AANz/6P/o/9z/3P/0/9D/3P/0/9D/9P/0/9D/3P/0/9z/3P/c/+j/0P/o//T/0P/c//T/9P/o/+j/9P/c//T/AAD0/wAA9P/o/wAA9P/0/9z/AAAAANz/3P/o/wwA3P/o/9z/AAAMAAwAAAAAAOj/6P8MAPT/9P8AAPT/AADo/wAADAAMAAAA6P8MABgA9P8MAPT/AAAAAAAAAAAYAAAA9P/0/wAAAAAkAPT/9P8MABgAAAAAAPT/MAAAAAAA9P8AAOj/9P/0//T/AADo/xgA9P/c/9D/AAD0/9D/6P8MAAAAAAD0/wwADADc/wAAAADo/wwA9P/0/9z/6P8MAPT/6P8MAAAA3P/0/wwAAAAMABgA6P/o/wwA6P/c/9D/DAAAAPT/9P/o/9z/DAD0//T/6P/0/wAADADo//T/9P/o/+j/3P8MAPT/9P8AAPT/DAD0/wAA9P8AAPT/AADo//T/DAAAAOj/3P8AAAAAAAD0/wAA9P/c/wAA9P8AAPT/9P/c/9z/6P/c/9z/AADc//T/AADc/+j/6P8MAPT/DADc//T/AADo/+j/3P/o/wAA3P/c/+j/6P8MAOj/AAD0/wAADAD0/wAA9P8MAAwADAAAAPT/AAAMANz/AADo/+j/AAD0/9z/AADo/wAA6P/Q/wAA9P/o/wwA3P8MAPT/AAD0/9z/9P/c/9D/6P8AAPT/DAAkAAwAxP8MAMT/AAAAANz/3P/Q/9z/3P/0/xgA6P/0/wAAAAAkAPT/\" type=\"audio/wav\" />\n",
       "                    Your browser does not support the audio element.\n",
       "                </audio>\n",
       "              "
      ],
      "text/plain": [
       "AudioItem REPRESENTATION"
      ]
     },
     "execution_count": 89,
     "metadata": {},
     "output_type": "execute_result"
    }
   ],
   "source": [
    "#Original sound (AudioData)\n",
    "ils.get(99)"
   ]
  },
  {
   "cell_type": "code",
   "execution_count": 90,
   "metadata": {},
   "outputs": [],
   "source": [
    "batch = data.one_batch()"
   ]
  },
  {
   "cell_type": "code",
   "execution_count": 91,
   "metadata": {},
   "outputs": [
    {
     "data": {
      "text/plain": [
       "torch.Size([1, 224, 161])"
      ]
     },
     "execution_count": 91,
     "metadata": {},
     "output_type": "execute_result"
    }
   ],
   "source": [
    "#Shape of first X.\n",
    "#Important: it's a spectrogram image:\n",
    "#The original 1D sound is \"augmented\" and transformed into a 2D spectrogram\n",
    "batch[0][0].shape"
   ]
  },
  {
   "cell_type": "code",
   "execution_count": 92,
   "metadata": {},
   "outputs": [
    {
     "data": {
      "image/jpeg": "[encoded data removed]",
      "image/png": "[encoded data removed]",
      "text/plain": [
       "Image (1, 224, 161)"
      ]
     },
     "metadata": {},
     "output_type": "display_data"
    },
    {
     "data": {
      "text/plain": [
       "torch.Size([1, 224, 161])"
      ]
     },
     "metadata": {},
     "output_type": "display_data"
    },
    {
     "data": {
      "text/plain": [
       "'Corrisponding label: tensor([[[-59.2357, -80.0000, -80.0000,  ..., -80.0000, -80.0000, -80.0000],\\n         [-58.2857, -80.0000, -80.0000,  ..., -80.0000, -80.0000, -80.0000],\\n         [-58.3054, -80.0000, -80.0000,  ..., -80.0000, -80.0000, -80.0000],\\n         ...,\\n         [-62.8059, -59.4403, -59.6048,  ..., -80.0000, -80.0000, -80.0000],\\n         [-69.3624, -71.3416, -54.0287,  ..., -80.0000, -80.0000, -80.0000],\\n         [-55.1246, -69.4214, -62.5651,  ..., -80.0000, -80.0000, -80.0000]]])'"
      ]
     },
     "metadata": {},
     "output_type": "display_data"
    }
   ],
   "source": [
    "#Augmented sound transformed to spectrogram...\n",
    "img=batch[0][0]\n",
    "display(Image(img),img.shape,f'Corrisponding label: {batch[0][1]}')"
   ]
  },
  {
   "cell_type": "markdown",
   "metadata": {},
   "source": [
    "**IMPORTANT**: as we see the phoneme is \"paddded\" with silence to the predefined value (max_duration)"
   ]
  },
  {
   "cell_type": "code",
   "execution_count": 93,
   "metadata": {},
   "outputs": [
    {
     "data": {
      "text/plain": [
       "[\"'em\",\n",
       " 'a',\n",
       " 'abbreviate',\n",
       " 'abdomen',\n",
       " 'abides',\n",
       " 'ability',\n",
       " 'able',\n",
       " 'ably',\n",
       " 'abolish',\n",
       " 'aborigine']"
      ]
     },
     "execution_count": 93,
     "metadata": {},
     "output_type": "execute_result"
    }
   ],
   "source": [
    "#Take a look at the classes to ensure that are what we've setup\n",
    "data.classes[:10]"
   ]
  },
  {
   "cell_type": "markdown",
   "metadata": {},
   "source": [
    "## Learner"
   ]
  },
  {
   "cell_type": "code",
   "execution_count": 94,
   "metadata": {},
   "outputs": [],
   "source": [
    "learn = cnn_learner(data, models.resnet50, metrics=accuracy)"
   ]
  },
  {
   "cell_type": "code",
   "execution_count": 95,
   "metadata": {},
   "outputs": [],
   "source": [
    "def adapt_first_layer(src_model, nChannels):\n",
    "    '''\n",
    "    Change first layer of network to accomodate new channels\n",
    "    '''\n",
    "    # save original\n",
    "    original_weights = src_model[0][0].weight.clone()\n",
    "    new_weights = original_weights[:,0:1,:,:]\n",
    "\n",
    "    # create new layes\n",
    "    new_layer = nn.Conv2d(nChannels,64, kernel_size=(7, 7), stride=(2, 2), padding=(3, 3), bias=False)\n",
    "    new_layer.weight = nn.Parameter(new_weights)\n",
    "\n",
    "    # Replace layer and put to gpu.\n",
    "    src_model[0][0] = new_layer\n",
    "    src_model.cuda();"
   ]
  },
  {
   "cell_type": "code",
   "execution_count": 96,
   "metadata": {},
   "outputs": [
    {
     "name": "stdout",
     "output_type": "stream",
     "text": [
      "First layer shape: torch.Size([64, 1, 7, 7])\n"
     ]
    }
   ],
   "source": [
    "nChannels=1\n",
    "\n",
    "# Alter existing model\n",
    "adapt_first_layer(learn.model,nChannels)\n",
    "print(f'First layer shape: {learn.model[0][0].weight.shape}')"
   ]
  },
  {
   "cell_type": "markdown",
   "metadata": {},
   "source": [
    "## Train"
   ]
  },
  {
   "cell_type": "code",
   "execution_count": 97,
   "metadata": {},
   "outputs": [
    {
     "data": {
      "text/html": [],
      "text/plain": [
       "<IPython.core.display.HTML object>"
      ]
     },
     "metadata": {},
     "output_type": "display_data"
    },
    {
     "name": "stdout",
     "output_type": "stream",
     "text": [
      "LR Finder is complete, type {learner_name}.recorder.plot() to see the graph.\n"
     ]
    },
    {
     "data": {
      "image/png": "[encoded data removed]",
      "text/plain": [
       "<Figure size 432x288 with 1 Axes>"
      ]
     },
     "metadata": {
      "needs_background": "light"
     },
     "output_type": "display_data"
    }
   ],
   "source": [
    "lr_find(learn)\n",
    "learn.recorder.plot()"
   ]
  },
  {
   "cell_type": "code",
   "execution_count": 98,
   "metadata": {},
   "outputs": [
    {
     "data": {
      "text/html": [
       "Total time: 26:46 <p><table border=\"1\" class=\"dataframe\">\n",
       "  <thead>\n",
       "    <tr style=\"text-align: left;\">\n",
       "      <th>epoch</th>\n",
       "      <th>train_loss</th>\n",
       "      <th>valid_loss</th>\n",
       "      <th>accuracy</th>\n",
       "      <th>time</th>\n",
       "    </tr>\n",
       "  </thead>\n",
       "  <tbody>\n",
       "    <tr>\n",
       "      <td>0</td>\n",
       "      <td>5.229638</td>\n",
       "      <td>6.012459</td>\n",
       "      <td>0.193999</td>\n",
       "      <td>03:21</td>\n",
       "    </tr>\n",
       "    <tr>\n",
       "      <td>1</td>\n",
       "      <td>4.375930</td>\n",
       "      <td>5.903974</td>\n",
       "      <td>0.266534</td>\n",
       "      <td>03:20</td>\n",
       "    </tr>\n",
       "    <tr>\n",
       "      <td>2</td>\n",
       "      <td>3.943572</td>\n",
       "      <td>6.366159</td>\n",
       "      <td>0.324616</td>\n",
       "      <td>03:21</td>\n",
       "    </tr>\n",
       "    <tr>\n",
       "      <td>3</td>\n",
       "      <td>3.682126</td>\n",
       "      <td>6.220423</td>\n",
       "      <td>0.350699</td>\n",
       "      <td>03:20</td>\n",
       "    </tr>\n",
       "    <tr>\n",
       "      <td>4</td>\n",
       "      <td>3.221303</td>\n",
       "      <td>6.029784</td>\n",
       "      <td>0.384213</td>\n",
       "      <td>03:20</td>\n",
       "    </tr>\n",
       "    <tr>\n",
       "      <td>5</td>\n",
       "      <td>2.842394</td>\n",
       "      <td>5.804327</td>\n",
       "      <td>0.419310</td>\n",
       "      <td>03:20</td>\n",
       "    </tr>\n",
       "    <tr>\n",
       "      <td>6</td>\n",
       "      <td>2.361724</td>\n",
       "      <td>5.706207</td>\n",
       "      <td>0.432868</td>\n",
       "      <td>03:20</td>\n",
       "    </tr>\n",
       "    <tr>\n",
       "      <td>7</td>\n",
       "      <td>2.077004</td>\n",
       "      <td>5.674556</td>\n",
       "      <td>0.437341</td>\n",
       "      <td>03:20</td>\n",
       "    </tr>\n",
       "  </tbody>\n",
       "</table>"
      ],
      "text/plain": [
       "<IPython.core.display.HTML object>"
      ]
     },
     "metadata": {},
     "output_type": "display_data"
    },
    {
     "data": {
      "image/png": "[encoded data removed]",
      "text/plain": [
       "<Figure size 432x288 with 1 Axes>"
      ]
     },
     "metadata": {
      "needs_background": "light"
     },
     "output_type": "display_data"
    }
   ],
   "source": [
    "learn.fit_one_cycle(8, slice(2e-2))\n",
    "learn.recorder.plot_losses()"
   ]
  },
  {
   "cell_type": "code",
   "execution_count": 100,
   "metadata": {},
   "outputs": [],
   "source": [
    "learn.save('pass1_all')"
   ]
  },
  {
   "cell_type": "code",
   "execution_count": 101,
   "metadata": {},
   "outputs": [],
   "source": [
    "learn.freeze_to(1)"
   ]
  },
  {
   "cell_type": "code",
   "execution_count": 102,
   "metadata": {},
   "outputs": [
    {
     "data": {
      "text/html": [
       "Total time: 31:16 <p><table border=\"1\" class=\"dataframe\">\n",
       "  <thead>\n",
       "    <tr style=\"text-align: left;\">\n",
       "      <th>epoch</th>\n",
       "      <th>train_loss</th>\n",
       "      <th>valid_loss</th>\n",
       "      <th>accuracy</th>\n",
       "      <th>time</th>\n",
       "    </tr>\n",
       "  </thead>\n",
       "  <tbody>\n",
       "    <tr>\n",
       "      <td>0</td>\n",
       "      <td>2.285257</td>\n",
       "      <td>5.757097</td>\n",
       "      <td>0.433969</td>\n",
       "      <td>03:54</td>\n",
       "    </tr>\n",
       "    <tr>\n",
       "      <td>1</td>\n",
       "      <td>2.472304</td>\n",
       "      <td>5.756268</td>\n",
       "      <td>0.435345</td>\n",
       "      <td>03:54</td>\n",
       "    </tr>\n",
       "    <tr>\n",
       "      <td>2</td>\n",
       "      <td>2.378742</td>\n",
       "      <td>5.631007</td>\n",
       "      <td>0.443053</td>\n",
       "      <td>03:54</td>\n",
       "    </tr>\n",
       "    <tr>\n",
       "      <td>3</td>\n",
       "      <td>2.218575</td>\n",
       "      <td>5.635602</td>\n",
       "      <td>0.445393</td>\n",
       "      <td>03:54</td>\n",
       "    </tr>\n",
       "    <tr>\n",
       "      <td>4</td>\n",
       "      <td>2.088931</td>\n",
       "      <td>5.501657</td>\n",
       "      <td>0.474572</td>\n",
       "      <td>03:54</td>\n",
       "    </tr>\n",
       "    <tr>\n",
       "      <td>5</td>\n",
       "      <td>1.899984</td>\n",
       "      <td>5.499947</td>\n",
       "      <td>0.475053</td>\n",
       "      <td>03:54</td>\n",
       "    </tr>\n",
       "    <tr>\n",
       "      <td>6</td>\n",
       "      <td>1.676688</td>\n",
       "      <td>5.485618</td>\n",
       "      <td>0.483036</td>\n",
       "      <td>03:54</td>\n",
       "    </tr>\n",
       "    <tr>\n",
       "      <td>7</td>\n",
       "      <td>1.668107</td>\n",
       "      <td>5.497147</td>\n",
       "      <td>0.482348</td>\n",
       "      <td>03:54</td>\n",
       "    </tr>\n",
       "  </tbody>\n",
       "</table>"
      ],
      "text/plain": [
       "<IPython.core.display.HTML object>"
      ]
     },
     "metadata": {},
     "output_type": "display_data"
    },
    {
     "data": {
      "image/png": "[encoded data removed]",
      "text/plain": [
       "<Figure size 432x288 with 1 Axes>"
      ]
     },
     "metadata": {
      "needs_background": "light"
     },
     "output_type": "display_data"
    }
   ],
   "source": [
    "learn.fit_one_cycle(8, slice(1e-3))\n",
    "learn.recorder.plot_losses()"
   ]
  },
  {
   "cell_type": "code",
   "execution_count": 104,
   "metadata": {},
   "outputs": [],
   "source": [
    "learn.save('pass2_all')"
   ]
  },
  {
   "cell_type": "code",
   "execution_count": 105,
   "metadata": {},
   "outputs": [],
   "source": [
    "learn.unfreeze()"
   ]
  },
  {
   "cell_type": "code",
   "execution_count": 106,
   "metadata": {},
   "outputs": [
    {
     "data": {
      "text/html": [
       "Total time: 35:49 <p><table border=\"1\" class=\"dataframe\">\n",
       "  <thead>\n",
       "    <tr style=\"text-align: left;\">\n",
       "      <th>epoch</th>\n",
       "      <th>train_loss</th>\n",
       "      <th>valid_loss</th>\n",
       "      <th>accuracy</th>\n",
       "      <th>time</th>\n",
       "    </tr>\n",
       "  </thead>\n",
       "  <tbody>\n",
       "    <tr>\n",
       "      <td>0</td>\n",
       "      <td>1.838075</td>\n",
       "      <td>5.527787</td>\n",
       "      <td>0.474296</td>\n",
       "      <td>04:28</td>\n",
       "    </tr>\n",
       "    <tr>\n",
       "      <td>1</td>\n",
       "      <td>1.993158</td>\n",
       "      <td>5.582695</td>\n",
       "      <td>0.457505</td>\n",
       "      <td>04:28</td>\n",
       "    </tr>\n",
       "    <tr>\n",
       "      <td>2</td>\n",
       "      <td>2.059170</td>\n",
       "      <td>5.388886</td>\n",
       "      <td>0.483243</td>\n",
       "      <td>04:29</td>\n",
       "    </tr>\n",
       "    <tr>\n",
       "      <td>3</td>\n",
       "      <td>1.905824</td>\n",
       "      <td>5.417671</td>\n",
       "      <td>0.479114</td>\n",
       "      <td>04:28</td>\n",
       "    </tr>\n",
       "    <tr>\n",
       "      <td>4</td>\n",
       "      <td>1.747095</td>\n",
       "      <td>5.353645</td>\n",
       "      <td>0.495286</td>\n",
       "      <td>04:28</td>\n",
       "    </tr>\n",
       "    <tr>\n",
       "      <td>5</td>\n",
       "      <td>1.620091</td>\n",
       "      <td>5.335407</td>\n",
       "      <td>0.503407</td>\n",
       "      <td>04:28</td>\n",
       "    </tr>\n",
       "    <tr>\n",
       "      <td>6</td>\n",
       "      <td>1.413612</td>\n",
       "      <td>5.296753</td>\n",
       "      <td>0.508705</td>\n",
       "      <td>04:28</td>\n",
       "    </tr>\n",
       "    <tr>\n",
       "      <td>7</td>\n",
       "      <td>1.343631</td>\n",
       "      <td>5.283715</td>\n",
       "      <td>0.508293</td>\n",
       "      <td>04:28</td>\n",
       "    </tr>\n",
       "  </tbody>\n",
       "</table>"
      ],
      "text/plain": [
       "<IPython.core.display.HTML object>"
      ]
     },
     "metadata": {},
     "output_type": "display_data"
    },
    {
     "data": {
      "image/png": "[encoded data removed]",
      "text/plain": [
       "<Figure size 432x288 with 1 Axes>"
      ]
     },
     "metadata": {
      "needs_background": "light"
     },
     "output_type": "display_data"
    }
   ],
   "source": [
    "learn.fit_one_cycle(8, slice(1e-3))\n",
    "learn.recorder.plot_losses()"
   ]
  },
  {
   "cell_type": "markdown",
   "metadata": {},
   "source": []
  },
  {
   "cell_type": "markdown",
   "metadata": {},
   "source": [
    "## Fin."
   ]
  }
 ],
 "metadata": {
  "kernelspec": {
   "display_name": "Python 3",
   "language": "python",
   "name": "python3"
  },
  "language_info": {
   "codemirror_mode": {
    "name": "ipython",
    "version": 3
   },
   "file_extension": ".py",
   "mimetype": "text/x-python",
   "name": "python",
   "nbconvert_exporter": "python",
   "pygments_lexer": "ipython3",
   "version": "3.7.2"
  },
  "varInspector": {
   "cols": {
    "lenName": 16,
    "lenType": 16,
    "lenVar": 40
   },
   "kernels_config": {
    "python": {
     "delete_cmd_postfix": "",
     "delete_cmd_prefix": "del ",
     "library": "var_list.py",
     "varRefreshCmd": "print(var_dic_list())"
    },
    "r": {
     "delete_cmd_postfix": ") ",
     "delete_cmd_prefix": "rm(",
     "library": "var_list.r",
     "varRefreshCmd": "cat(var_dic_list()) "
    }
   },
   "types_to_exclude": [
    "module",
    "function",
    "builtin_function_or_method",
    "instance",
    "_Feature"
   ],
   "window_display": false
  }
 },
 "nbformat": 4,
 "nbformat_minor": 2
}
